{
 "cells": [
  {
   "cell_type": "markdown",
   "source": "# Análisis de los 25 retailers más grandes de Estados Unidos",
   "metadata": {
    "cell_id": "1df879a0-53cd-4031-a50b-2c2fe17304a4",
    "tags": [],
    "is_collapsed": false,
    "deepnote_cell_type": "text-cell-h1"
   }
  },
  {
   "cell_type": "code",
   "metadata": {
    "tags": [],
    "cell_id": "3347a937-91c3-4305-b06c-213bb2f3bcaf",
    "deepnote_to_be_reexecuted": false,
    "source_hash": "24b26b86",
    "execution_start": 1645634193339,
    "execution_millis": 5287,
    "deepnote_cell_type": "code"
   },
   "source": "import pandas as pd\nimport numpy as np\nimport matplotlib.pyplot as plt\nimport seaborn as sns",
   "execution_count": null,
   "outputs": []
  },
  {
   "cell_type": "code",
   "metadata": {
    "cell_id": "081fdaf2-888a-4a54-9495-467464cfc400",
    "tags": [],
    "deepnote_to_be_reexecuted": false,
    "source_hash": "8a5f8ea2",
    "execution_start": 1645634201123,
    "execution_millis": 159,
    "deepnote_cell_type": "code"
   },
   "source": "df = pd.read_csv('/work/largest_us_retailers.csv')\ndf.head()",
   "execution_count": null,
   "outputs": [
    {
     "output_type": "execute_result",
     "execution_count": 3,
     "data": {
      "application/vnd.deepnote.dataframe.v3+json": {
       "column_count": 6,
       "row_count": 5,
       "columns": [
        {
         "name": "Company",
         "dtype": "object",
         "stats": {
          "unique_count": 5,
          "nan_count": 0,
          "categories": [
           {
            "name": "Walmart US",
            "count": 1
           },
           {
            "name": "Kroger",
            "count": 1
           },
           {
            "name": "3 others",
            "count": 3
           }
          ]
         }
        },
        {
         "name": "Sales",
         "dtype": "int64",
         "stats": {
          "unique_count": 5,
          "nan_count": 0,
          "min": "78924",
          "max": "658119",
          "histogram": [
           {
            "bin_start": 78924,
            "bin_end": 136843.5,
            "count": 4
           },
           {
            "bin_start": 136843.5,
            "bin_end": 194763,
            "count": 0
           },
           {
            "bin_start": 194763,
            "bin_end": 252682.5,
            "count": 0
           },
           {
            "bin_start": 252682.5,
            "bin_end": 310602,
            "count": 0
           },
           {
            "bin_start": 310602,
            "bin_end": 368521.5,
            "count": 0
           },
           {
            "bin_start": 368521.5,
            "bin_end": 426441,
            "count": 0
           },
           {
            "bin_start": 426441,
            "bin_end": 484360.5,
            "count": 0
           },
           {
            "bin_start": 484360.5,
            "bin_end": 542280,
            "count": 0
           },
           {
            "bin_start": 542280,
            "bin_end": 600199.5,
            "count": 0
           },
           {
            "bin_start": 600199.5,
            "bin_end": 658119,
            "count": 1
           }
          ]
         }
        },
        {
         "name": "Stores",
         "dtype": "float64",
         "stats": {
          "unique_count": 5,
          "nan_count": 0,
          "min": "495.0",
          "max": "8002.0",
          "histogram": [
           {
            "bin_start": 495,
            "bin_end": 1245.7,
            "count": 1
           },
           {
            "bin_start": 1245.7,
            "bin_end": 1996.4,
            "count": 1
           },
           {
            "bin_start": 1996.4,
            "bin_end": 2747.1000000000004,
            "count": 0
           },
           {
            "bin_start": 2747.1000000000004,
            "bin_end": 3497.8,
            "count": 0
           },
           {
            "bin_start": 3497.8,
            "bin_end": 4248.5,
            "count": 1
           },
           {
            "bin_start": 4248.5,
            "bin_end": 4999.200000000001,
            "count": 1
           },
           {
            "bin_start": 4999.200000000001,
            "bin_end": 5749.900000000001,
            "count": 0
           },
           {
            "bin_start": 5749.900000000001,
            "bin_end": 6500.6,
            "count": 0
           },
           {
            "bin_start": 6500.6,
            "bin_end": 7251.3,
            "count": 0
           },
           {
            "bin_start": 7251.3,
            "bin_end": 8002,
            "count": 1
           }
          ]
         }
        },
        {
         "name": "Sales/Avg. Store",
         "dtype": "float64",
         "stats": {
          "unique_count": 5,
          "nan_count": 0,
          "min": "9.81092672",
          "max": "187.7956204",
          "histogram": [
           {
            "bin_start": 9.81092672,
            "bin_end": 27.609396087999997,
            "count": 1
           },
           {
            "bin_start": 27.609396087999997,
            "bin_end": 45.407865455999996,
            "count": 2
           },
           {
            "bin_start": 45.407865455999996,
            "bin_end": 63.206334823999995,
            "count": 0
           },
           {
            "bin_start": 63.206334823999995,
            "bin_end": 81.004804192,
            "count": 1
           },
           {
            "bin_start": 81.004804192,
            "bin_end": 98.80327356,
            "count": 0
           },
           {
            "bin_start": 98.80327356,
            "bin_end": 116.601742928,
            "count": 0
           },
           {
            "bin_start": 116.601742928,
            "bin_end": 134.400212296,
            "count": 0
           },
           {
            "bin_start": 134.400212296,
            "bin_end": 152.198681664,
            "count": 0
           },
           {
            "bin_start": 152.198681664,
            "bin_end": 169.99715103199998,
            "count": 0
           },
           {
            "bin_start": 169.99715103199998,
            "bin_end": 187.7956204,
            "count": 1
           }
          ]
         }
        },
        {
         "name": "Store Count Growth",
         "dtype": "float64",
         "stats": {
          "unique_count": 5,
          "nan_count": 0,
          "min": "-0.01051069618",
          "max": "0.06681034483",
          "histogram": [
           {
            "bin_start": -0.01051069618,
            "bin_end": -0.0027785920789999983,
            "count": 1
           },
           {
            "bin_start": -0.0027785920789999983,
            "bin_end": 0.004953512022000003,
            "count": 1
           },
           {
            "bin_start": 0.004953512022000003,
            "bin_end": 0.012685616123000005,
            "count": 0
           },
           {
            "bin_start": 0.012685616123000005,
            "bin_end": 0.020417720224000006,
            "count": 1
           },
           {
            "bin_start": 0.020417720224000006,
            "bin_end": 0.028149824325000003,
            "count": 0
           },
           {
            "bin_start": 0.028149824325000003,
            "bin_end": 0.03588192842600001,
            "count": 0
           },
           {
            "bin_start": 0.03588192842600001,
            "bin_end": 0.043614032527,
            "count": 0
           },
           {
            "bin_start": 0.043614032527,
            "bin_end": 0.05134613662800001,
            "count": 0
           },
           {
            "bin_start": 0.05134613662800001,
            "bin_end": 0.059078240729,
            "count": 1
           },
           {
            "bin_start": 0.059078240729,
            "bin_end": 0.06681034483,
            "count": 1
           }
          ]
         }
        },
        {
         "name": "Category",
         "dtype": "object",
         "stats": {
          "unique_count": 5,
          "nan_count": 0,
          "categories": [
           {
            "name": "Supercenters",
            "count": 1
           },
           {
            "name": "Grocery",
            "count": 1
           },
           {
            "name": "3 others",
            "count": 3
           }
          ]
         }
        },
        {
         "name": "_deepnote_index_column",
         "dtype": "int64"
        }
       ],
       "rows": [
        {
         "Company": "Walmart US",
         "Sales": 658119,
         "Stores": 4574,
         "Sales/Avg. Store": 65.64972497,
         "Store Count Growth": 0.01284322409,
         "Category": "Supercenters",
         "_deepnote_index_column": 0
        },
        {
         "Company": "Kroger",
         "Sales": 115037,
         "Stores": 3931,
         "Sales/Avg. Store": 30.03184963,
         "Store Count Growth": 0.05388739946,
         "Category": "Grocery",
         "_deepnote_index_column": 1
        },
        {
         "Company": "Costco",
         "Sales": 90048,
         "Stores": 495,
         "Sales/Avg. Store": 187.7956204,
         "Store Count Growth": 0.06681034483,
         "Category": "Warehouse Club",
         "_deepnote_index_column": 2
        },
        {
         "Company": "Home Depot",
         "Sales": 83976,
         "Stores": 1965,
         "Sales/Avg. Store": 42.73587786,
         "Store Count Growth": 0,
         "Category": "Home Improvement",
         "_deepnote_index_column": 3
        },
        {
         "Company": "Walgreen Boots",
         "Sales": 78924,
         "Stores": 8002,
         "Sales/Avg. Store": 9.81092672,
         "Store Count Growth": -0.01051069618,
         "Category": "Drug Stores",
         "_deepnote_index_column": 4
        }
       ]
      },
      "text/plain": "          Company   Sales  Stores  Sales/Avg. Store  Store Count Growth  \\\n0      Walmart US  658119  4574.0         65.649725            0.012843   \n1          Kroger  115037  3931.0         30.031850            0.053887   \n2          Costco   90048   495.0        187.795620            0.066810   \n3      Home Depot   83976  1965.0         42.735878            0.000000   \n4  Walgreen Boots   78924  8002.0          9.810927           -0.010511   \n\n           Category  \n0      Supercenters  \n1           Grocery  \n2    Warehouse Club  \n3  Home Improvement  \n4       Drug Stores  ",
      "text/html": "<div>\n<style scoped>\n    .dataframe tbody tr th:only-of-type {\n        vertical-align: middle;\n    }\n\n    .dataframe tbody tr th {\n        vertical-align: top;\n    }\n\n    .dataframe thead th {\n        text-align: right;\n    }\n</style>\n<table border=\"1\" class=\"dataframe\">\n  <thead>\n    <tr style=\"text-align: right;\">\n      <th></th>\n      <th>Company</th>\n      <th>Sales</th>\n      <th>Stores</th>\n      <th>Sales/Avg. Store</th>\n      <th>Store Count Growth</th>\n      <th>Category</th>\n    </tr>\n  </thead>\n  <tbody>\n    <tr>\n      <th>0</th>\n      <td>Walmart US</td>\n      <td>658119</td>\n      <td>4574.0</td>\n      <td>65.649725</td>\n      <td>0.012843</td>\n      <td>Supercenters</td>\n    </tr>\n    <tr>\n      <th>1</th>\n      <td>Kroger</td>\n      <td>115037</td>\n      <td>3931.0</td>\n      <td>30.031850</td>\n      <td>0.053887</td>\n      <td>Grocery</td>\n    </tr>\n    <tr>\n      <th>2</th>\n      <td>Costco</td>\n      <td>90048</td>\n      <td>495.0</td>\n      <td>187.795620</td>\n      <td>0.066810</td>\n      <td>Warehouse Club</td>\n    </tr>\n    <tr>\n      <th>3</th>\n      <td>Home Depot</td>\n      <td>83976</td>\n      <td>1965.0</td>\n      <td>42.735878</td>\n      <td>0.000000</td>\n      <td>Home Improvement</td>\n    </tr>\n    <tr>\n      <th>4</th>\n      <td>Walgreen Boots</td>\n      <td>78924</td>\n      <td>8002.0</td>\n      <td>9.810927</td>\n      <td>-0.010511</td>\n      <td>Drug Stores</td>\n    </tr>\n  </tbody>\n</table>\n</div>"
     },
     "metadata": {}
    }
   ]
  },
  {
   "cell_type": "markdown",
   "source": "## I. Preguntas del negocio",
   "metadata": {
    "cell_id": "cc141631-e246-41c7-a56b-ad74255d674f",
    "tags": [],
    "is_collapsed": false,
    "deepnote_cell_type": "text-cell-h2"
   }
  },
  {
   "cell_type": "markdown",
   "source": "### 1. ¿Cuál es el promedio de ventas sin contar a la compañía dominante?",
   "metadata": {
    "cell_id": "b919b92e-0df3-4f54-b093-c1db040bc4aa",
    "tags": [],
    "deepnote_cell_type": "markdown"
   }
  },
  {
   "cell_type": "markdown",
   "source": "Primero se organizan los datos de mayor a menor en relación con los valores de la columna ventas y de paso calculamos el promedio inicial.",
   "metadata": {
    "cell_id": "dd3367f1-80db-414c-8a32-8d192d810eed",
    "tags": [],
    "is_collapsed": false,
    "deepnote_cell_type": "text-cell-p"
   }
  },
  {
   "cell_type": "code",
   "metadata": {
    "cell_id": "d0684d2b-d018-42ad-9b48-b545aae09eec",
    "tags": [],
    "deepnote_to_be_reexecuted": false,
    "source_hash": "24c5c7bf",
    "execution_start": 1645575004717,
    "execution_millis": 2,
    "deepnote_table_state": {
     "pageSize": 10,
     "pageIndex": 0,
     "filters": [],
     "sortBy": []
    },
    "deepnote_table_loading": false,
    "deepnote_cell_type": "code"
   },
   "source": "df_sorted = df.sort_values('Sales', ascending=0) # Organizar los datos\nprint(f\"El promedio de todos los datos es: ${df_sorted['Sales'].mean()}\") # Imprimir el promedio",
   "execution_count": null,
   "outputs": [
    {
     "name": "stdout",
     "text": "El promedio de todos los datos es: $71063.08\n",
     "output_type": "stream"
    }
   ]
  },
  {
   "cell_type": "markdown",
   "source": "Se observa la tabla con los datos de la ventas:",
   "metadata": {
    "cell_id": "5aac695d-dcc8-4962-9ac9-48836ec92e40",
    "tags": [],
    "is_collapsed": false,
    "deepnote_cell_type": "text-cell-p"
   }
  },
  {
   "cell_type": "code",
   "metadata": {
    "cell_id": "e274674e-d0ee-4184-a45e-cddf663f9c06",
    "tags": [],
    "deepnote_to_be_reexecuted": false,
    "source_hash": "923f2886",
    "execution_start": 1645548533425,
    "execution_millis": 9,
    "deepnote_cell_type": "code"
   },
   "source": "df_sorted['Company'].head() # Observamos los primero datos del dataframe",
   "execution_count": null,
   "outputs": [
    {
     "output_type": "execute_result",
     "execution_count": 60,
     "data": {
      "text/plain": "0        Walmart US\n1            Kroger\n2            Costco\n3        Home Depot\n4    Walgreen Boots\nName: Company, dtype: object"
     },
     "metadata": {}
    }
   ]
  },
  {
   "cell_type": "markdown",
   "source": "En la tabla de arriba podemos ver que la compañía dominante es Walmart. Esto queda aun mas claro cuando graficamos los datos:",
   "metadata": {
    "cell_id": "f22d3a90-75e0-4007-952e-324c0fe63d11",
    "tags": [],
    "is_collapsed": false,
    "deepnote_cell_type": "text-cell-p"
   }
  },
  {
   "cell_type": "code",
   "metadata": {
    "cell_id": "5774a1ca-aba4-4e6e-b9e0-6c9423209037",
    "tags": [],
    "deepnote_to_be_reexecuted": false,
    "source_hash": "cb9dc13a",
    "execution_start": 1645543390782,
    "execution_millis": 854,
    "deepnote_cell_type": "code"
   },
   "source": "sns.barplot(data=df, y=\"Company\", x=\"Sales\") # grafica de Ventas por compañia ",
   "execution_count": null,
   "outputs": [
    {
     "output_type": "execute_result",
     "execution_count": 8,
     "data": {
      "text/plain": "<AxesSubplot:xlabel='Sales', ylabel='Company'>"
     },
     "metadata": {}
    },
    {
     "data": {
      "text/plain": "<Figure size 432x288 with 1 Axes>",
      "image/png": "[encoded data removed]"
     },
     "metadata": {
      "needs_background": "light",
      "image/png": {
       "width": 458,
       "height": 262
      }
     },
     "output_type": "display_data"
    }
   ]
  },
  {
   "cell_type": "markdown",
   "source": "Entonces procedemos a observar lo que sucede cuando excluimos a Walmart US:",
   "metadata": {
    "cell_id": "d0ae076f-ce06-4511-960b-8ab68a21c513",
    "tags": [],
    "is_collapsed": false,
    "deepnote_cell_type": "text-cell-p"
   }
  },
  {
   "cell_type": "code",
   "metadata": {
    "cell_id": "1b025df2-6a8b-4c64-90e2-b24ad03cf786",
    "tags": [],
    "deepnote_to_be_reexecuted": false,
    "source_hash": "fa237cf",
    "execution_start": 1645575010001,
    "execution_millis": 432,
    "deepnote_cell_type": "code"
   },
   "source": "df_swu = df_sorted[1:] # Un slice para quitar la compañia con mas ventas\nsns.barplot(data=df_swu, y=\"Company\", x=\"Sales\") # La grafica anterior sin el dato mas grande.",
   "execution_count": null,
   "outputs": [
    {
     "output_type": "execute_result",
     "execution_count": 97,
     "data": {
      "text/plain": "<AxesSubplot:xlabel='Sales', ylabel='Company'>"
     },
     "metadata": {}
    },
    {
     "data": {
      "text/plain": "<Figure size 432x288 with 1 Axes>",
      "image/png": "[encoded data removed]"
     },
     "metadata": {
      "needs_background": "light",
      "image/png": {
       "width": 474,
       "height": 262
      }
     },
     "output_type": "display_data"
    }
   ]
  },
  {
   "cell_type": "markdown",
   "source": "Sin embargo, la distribución de los datos sigue sin tener una pauta de distribución normal:",
   "metadata": {
    "cell_id": "722fcfa9-fc05-4693-98af-351276029b76",
    "tags": [],
    "is_collapsed": false,
    "deepnote_cell_type": "text-cell-p"
   }
  },
  {
   "cell_type": "code",
   "metadata": {
    "cell_id": "42841ed5-c7c4-4bcc-a175-ae9d9f1bdf41",
    "tags": [],
    "deepnote_to_be_reexecuted": false,
    "source_hash": "d1dafaf0",
    "execution_start": 1645543947102,
    "execution_millis": 186,
    "deepnote_cell_type": "code"
   },
   "source": "sns.boxplot(x='Sales', data=df_swu) # Grafica de caja para observar la distribucion de los datos",
   "execution_count": null,
   "outputs": [
    {
     "output_type": "execute_result",
     "execution_count": 18,
     "data": {
      "text/plain": "<AxesSubplot:xlabel='Sales'>"
     },
     "metadata": {}
    },
    {
     "data": {
      "text/plain": "<Figure size 432x288 with 1 Axes>",
      "image/png": "[encoded data removed]"
     },
     "metadata": {
      "needs_background": "light",
      "image/png": {
       "width": 352,
       "height": 262
      }
     },
     "output_type": "display_data"
    }
   ]
  },
  {
   "cell_type": "markdown",
   "source": "**Finalmente, luego de muchos rodeos, este sería el promedio sin los datos de Walmart US:**",
   "metadata": {
    "cell_id": "f452c8dd-6a8f-4829-889b-436497d4f35c",
    "tags": [],
    "deepnote_cell_type": "markdown"
   }
  },
  {
   "cell_type": "code",
   "metadata": {
    "cell_id": "d1b27525-43a1-4f33-9bfd-d75de7dca69a",
    "tags": [],
    "deepnote_to_be_reexecuted": false,
    "source_hash": "bd3d3148",
    "execution_start": 1645548335625,
    "execution_millis": 9,
    "deepnote_cell_type": "code"
   },
   "source": "# Impresion del nuevo promedio sin el dato de ventas mas grande.\nprint(f\"Promedio: ${round(df_swu['Sales'].mean(),2)}\") ",
   "execution_count": null,
   "outputs": [
    {
     "name": "stdout",
     "text": "Promedio: $46602.42\n",
     "output_type": "stream"
    }
   ]
  },
  {
   "cell_type": "markdown",
   "source": "El promedio de ventas se redujo de $71,063.08 a  $46,602.42",
   "metadata": {
    "cell_id": "61666c7e-3db5-4cfc-b4f1-80dbec275807",
    "tags": [],
    "is_collapsed": false,
    "deepnote_cell_type": "text-cell-p"
   }
  },
  {
   "cell_type": "code",
   "metadata": {
    "cell_id": "e72e7a49-a66c-4580-b74a-36433d8253da",
    "tags": [],
    "deepnote_to_be_reexecuted": false,
    "source_hash": "ac003775",
    "execution_start": 1645544983740,
    "execution_millis": 6,
    "deepnote_cell_type": "code"
   },
   "source": "# Calculo de la diferencia en porcentaje entre el promedio inicial y el promedio sin el dato mas elevado.\ndif = round((71063.08-46602.42)*100/71063.08,2) \nprint(f'Una reducción del {dif}% con la eliminacion de un solo resultado atipico')",
   "execution_count": null,
   "outputs": [
    {
     "name": "stdout",
     "text": "Una reducción del 34.42% con la eliminacion de un solo resultado atipico\n",
     "output_type": "stream"
    }
   ]
  },
  {
   "cell_type": "markdown",
   "source": "<h4>Resultados de la pregunta 1:</h4>\n\n- El promedio de ventas se redujo de \\$71,063.08 a  $46,602.42.\n- Ocurrió una reducción del 34.42% con la eliminacion de un solo resultado atipico\n",
   "metadata": {
    "cell_id": "04714f3a-a56a-4251-a8f2-c804a4b39498",
    "tags": [],
    "deepnote_cell_type": "markdown"
   }
  },
  {
   "cell_type": "markdown",
   "source": "### 2. ¿Cuánto dinero en ventas generó la mayoría de las compañías?",
   "metadata": {
    "cell_id": "1814847a-365e-4bae-9fb9-6bed9b874b37",
    "tags": [],
    "deepnote_cell_type": "markdown"
   }
  },
  {
   "cell_type": "markdown",
   "source": "Comenzaremos&nbsp;elaborando un histograma de&nbsp;la&nbsp;columna&nbsp;\"Sales\"",
   "metadata": {
    "cell_id": "3d084168-9703-4d6f-8b99-daa594fdc031",
    "tags": [],
    "is_collapsed": false,
    "deepnote_cell_type": "text-cell-p"
   }
  },
  {
   "cell_type": "code",
   "metadata": {
    "cell_id": "df8c1dc8-7526-4b53-91df-4950d38c92aa",
    "tags": [],
    "deepnote_to_be_reexecuted": false,
    "source_hash": "d2d70665",
    "execution_start": 1645545435360,
    "execution_millis": 394,
    "deepnote_cell_type": "code"
   },
   "source": "# Grafica de barras con los valores de las ventas\nsns.histplot(data=df,y=\"Sales\",bins=30)",
   "execution_count": null,
   "outputs": [
    {
     "output_type": "execute_result",
     "execution_count": 36,
     "data": {
      "text/plain": "<AxesSubplot:xlabel='Count', ylabel='Sales'>"
     },
     "metadata": {}
    },
    {
     "data": {
      "text/plain": "<Figure size 432x288 with 1 Axes>",
      "image/png": "[encoded data removed]"
     },
     "metadata": {
      "needs_background": "light",
      "image/png": {
       "width": 407,
       "height": 262
      }
     },
     "output_type": "display_data"
    }
   ]
  },
  {
   "cell_type": "markdown",
   "source": "Hay un dato atípico que genera mucho ruido, probablemente se trate de las ventas de Walmart US, así que se repetirá la grafica de arriba sin el dato de Walmart con el dataset \"df_swu\" y para adelantarnos un poco, usaremos bines con un ancho de $20,000:",
   "metadata": {
    "cell_id": "598ec942-9772-44fd-8344-d7d38dbf0e51",
    "tags": [],
    "is_collapsed": false,
    "deepnote_cell_type": "text-cell-p"
   }
  },
  {
   "cell_type": "code",
   "metadata": {
    "cell_id": "7c7057cc-813b-4f93-8826-caed6cc738f9",
    "tags": [],
    "deepnote_to_be_reexecuted": false,
    "source_hash": "d146f6e0",
    "execution_start": 1645549180193,
    "execution_millis": 288,
    "deepnote_cell_type": "code"
   },
   "source": "# Grafica de barras con los valores de las ventas descontando el valor mas elevado.\n\nsns.histplot(data=df_swu,y=\"Sales\",binwidth=20000)",
   "execution_count": null,
   "outputs": [
    {
     "output_type": "execute_result",
     "execution_count": 70,
     "data": {
      "text/plain": "<AxesSubplot:xlabel='Count', ylabel='Sales'>"
     },
     "metadata": {}
    },
    {
     "data": {
      "text/plain": "<Figure size 432x288 with 1 Axes>",
      "image/png": "[encoded data removed]"
     },
     "metadata": {
      "needs_background": "light",
      "image/png": {
       "width": 407,
       "height": 263
      }
     },
     "output_type": "display_data"
    }
   ]
  },
  {
   "cell_type": "markdown",
   "source": "Recordando que en este caso que los valores mínimo y máximo son:",
   "metadata": {
    "cell_id": "6b764278-4590-451b-91ae-e800db2e3ad0",
    "tags": [],
    "is_collapsed": false,
    "deepnote_cell_type": "text-cell-p"
   }
  },
  {
   "cell_type": "code",
   "metadata": {
    "cell_id": "23285ba1-275c-4ccb-8bf6-f18a3204093d",
    "tags": [],
    "deepnote_to_be_reexecuted": false,
    "source_hash": "f404c7eb",
    "execution_start": 1645547973609,
    "execution_millis": 7,
    "deepnote_cell_type": "code"
   },
   "source": "print(f\"Valor minimo = ${df_swu['Sales'].min()}\\nValor Maximo= ${df_swu['Sales'].max()}\")",
   "execution_count": null,
   "outputs": [
    {
     "name": "stdout",
     "text": "Valor minimo = $16592\nValor Maximo= $115037\n",
     "output_type": "stream"
    }
   ]
  },
  {
   "cell_type": "markdown",
   "source": "Observando la ultima grafica determinamos que se agrupan 13 compañías en el grupo grupo inferior de $20000 de ancho, entonces, con una ultima operación podemos determinar que:",
   "metadata": {
    "cell_id": "19abc8d9-02ea-4297-82df-757c005a17c1",
    "tags": [],
    "is_collapsed": false,
    "deepnote_cell_type": "text-cell-p"
   }
  },
  {
   "cell_type": "code",
   "metadata": {
    "cell_id": "c5861e9e-9eec-43e7-adf5-e7f2bf224bf3",
    "tags": [],
    "deepnote_to_be_reexecuted": false,
    "source_hash": "aa5967c6",
    "execution_start": 1645549496219,
    "execution_millis": 47,
    "deepnote_cell_type": "code"
   },
   "source": "print(f\"Entre las 25 companias del dataset hay 13 compañias que generaron entre \" + \n      f\"${df_swu['Sales'].min()} y ${df_swu['Sales'].min() + 20000}.\")\nprint(f\"Dicho de otra forma, el {13*100/25}% de las empresas generaron entre $16,592 y $36,592.\")\n",
   "execution_count": null,
   "outputs": [
    {
     "name": "stdout",
     "text": "Entre las 25 companias del dataset hay 13 compañias que generaron entre $16592 y $36592.\nDicho de otra forma, el 52.0% de las empresas generaron entre $16,592 y $36,592.\n",
     "output_type": "stream"
    }
   ]
  },
  {
   "cell_type": "markdown",
   "source": "<h4>Conclusiones de la pregunta 2:</h4>\n\n- Entre las 25 companias del dataset hay 13 compañias que generaron entre \\$16,592 y $36,592.\n- Dicho de otra forma, el 52.0% de las empresas generaron entre \\$16,592 y $36,592.",
   "metadata": {
    "cell_id": "8146b645-85d4-40e5-b7af-7199114c2d7e",
    "tags": [],
    "deepnote_cell_type": "markdown"
   }
  },
  {
   "cell_type": "markdown",
   "source": "### 3. ¿Cuántas tiendas tiene la mayoría de las compañías?",
   "metadata": {
    "cell_id": "9801295a-a27d-48af-ae87-c653cabd8f67",
    "tags": [],
    "deepnote_cell_type": "markdown"
   }
  },
  {
   "cell_type": "markdown",
   "source": "Volvemos a explorar toda la tabla:",
   "metadata": {
    "cell_id": "e0781542-bbcf-41dd-90ff-3df3931a5cb6",
    "tags": [],
    "is_collapsed": false,
    "deepnote_cell_type": "text-cell-p"
   }
  },
  {
   "cell_type": "code",
   "metadata": {
    "cell_id": "cfcc2261-f6a1-44d8-b8fa-184eec2a77ff",
    "tags": [],
    "deepnote_to_be_reexecuted": false,
    "source_hash": "de1e323c",
    "execution_start": 1645549650776,
    "execution_millis": 0,
    "deepnote_cell_type": "code"
   },
   "source": "# Exploracion de las columnas del dataframe\ndf.info()",
   "execution_count": null,
   "outputs": [
    {
     "name": "stdout",
     "text": "<class 'pandas.core.frame.DataFrame'>\nRangeIndex: 25 entries, 0 to 24\nData columns (total 6 columns):\n #   Column              Non-Null Count  Dtype  \n---  ------              --------------  -----  \n 0   Company             25 non-null     object \n 1   Sales               25 non-null     int64  \n 2   Stores              23 non-null     float64\n 3   Sales/Avg. Store    23 non-null     float64\n 4   Store Count Growth  23 non-null     float64\n 5   Category            24 non-null     object \ndtypes: float64(3), int64(1), object(2)\nmemory usage: 1.3+ KB\n",
     "output_type": "stream"
    }
   ]
  },
  {
   "cell_type": "markdown",
   "source": "Se considerará a la columna \"Stores\" como la que contiene la información relacionada con el numero de tiendas y se procederá a elaborar un histograma:",
   "metadata": {
    "cell_id": "9eac9621-dcea-44a6-aa7c-41b03b4536e5",
    "tags": [],
    "is_collapsed": false,
    "deepnote_cell_type": "text-cell-p"
   }
  },
  {
   "cell_type": "code",
   "metadata": {
    "cell_id": "a7f9e110-afcd-4125-9726-0b9ed1029b8c",
    "tags": [],
    "deepnote_to_be_reexecuted": false,
    "source_hash": "398e134b",
    "execution_start": 1645550121302,
    "execution_millis": 387,
    "deepnote_cell_type": "code"
   },
   "source": "# Se realiza la exploracion mediante la variacion de la variable binwidth\nsns.histplot(y='Stores', data=df, binwidth=1740)",
   "execution_count": null,
   "outputs": [
    {
     "output_type": "execute_result",
     "execution_count": 108,
     "data": {
      "text/plain": "<AxesSubplot:xlabel='Count', ylabel='Stores'>"
     },
     "metadata": {}
    },
    {
     "data": {
      "text/plain": "<Figure size 432x288 with 1 Axes>",
      "image/png": "[encoded data removed]"
     },
     "metadata": {
      "needs_background": "light",
      "image/png": {
       "width": 401,
       "height": 262
      }
     },
     "output_type": "display_data"
    }
   ]
  },
  {
   "cell_type": "markdown",
   "source": "De la grafica anterior se puede determinar que el grupo inferior de 1740 tiendas de ancho abarca 13 tiendas, entonces",
   "metadata": {
    "cell_id": "251f4ff7-26b5-41d9-b502-d7a49c0414c8",
    "tags": [],
    "is_collapsed": false,
    "deepnote_cell_type": "text-cell-p"
   }
  },
  {
   "cell_type": "code",
   "metadata": {
    "cell_id": "33eeb4db-a98f-410d-8984-c96c8d8485d8",
    "tags": [],
    "deepnote_to_be_reexecuted": false,
    "source_hash": "7242cae",
    "execution_start": 1645550544670,
    "execution_millis": 13,
    "deepnote_cell_type": "code"
   },
   "source": "percent = 13*100/25\nmin_stores = df['Stores'].min()\nbin_w = 1740\nprint(f\"El {percent}% de las compañias tienen entre {min_stores} y {min_stores + bin_w} tiendas.\")",
   "execution_count": null,
   "outputs": [
    {
     "name": "stdout",
     "text": "El 52.0% de las compañias tienen entre 231.0 y 1971.0 tiendas.\n",
     "output_type": "stream"
    }
   ]
  },
  {
   "cell_type": "markdown",
   "source": "#### Conclusión de la pregunta 3:\n- El 52.0% de las compañias tienen entre 231 y 1971 tiendas.\n",
   "metadata": {
    "cell_id": "a094f707-8c93-4904-8f83-b8ac6a325662",
    "tags": [],
    "deepnote_cell_type": "markdown"
   }
  },
  {
   "cell_type": "markdown",
   "source": "### 4. ¿La cantidad de tiendas está relacionada con la cantidad de ventas? Es decir, ¿si una empresa tiene más tiendas tendrá más dinero de ventas?",
   "metadata": {
    "cell_id": "c9b5de28-cd12-4088-9bc0-93df660401f3",
    "tags": [],
    "deepnote_cell_type": "markdown"
   }
  },
  {
   "cell_type": "markdown",
   "source": "Se nos pide compara la relación entre la cantidad de tiendas y el dinero generado, por ello se elabora un grafico de dispersión para compara estas dos variables:",
   "metadata": {
    "cell_id": "7a0beaf5-663f-425b-b1c5-a495bf9e6e5e",
    "tags": [],
    "is_collapsed": false,
    "deepnote_cell_type": "text-cell-p"
   }
  },
  {
   "cell_type": "code",
   "metadata": {
    "cell_id": "72dda234-6fca-477e-a088-99682e9766a2",
    "tags": [],
    "deepnote_to_be_reexecuted": false,
    "source_hash": "88a5790c",
    "execution_start": 1645551984891,
    "execution_millis": 1820,
    "deepnote_cell_type": "code"
   },
   "source": "sns.jointplot(data=df, x='Stores', y='Sales',hue='Company')",
   "execution_count": null,
   "outputs": [
    {
     "output_type": "execute_result",
     "execution_count": 114,
     "data": {
      "text/plain": "<seaborn.axisgrid.JointGrid at 0x7f64bb5ee8d0>"
     },
     "metadata": {}
    },
    {
     "data": {
      "text/plain": "<Figure size 432x432 with 3 Axes>",
      "image/png": "[encoded data removed]"
     },
     "metadata": {
      "needs_background": "light",
      "image/png": {
       "width": 446,
       "height": 477
      }
     },
     "output_type": "display_data"
    }
   ]
  },
  {
   "cell_type": "markdown",
   "source": "Una vez mas, el dato de Walmart Us Genera demasiado ruido para poder apreciar una tendencia, así que usaremos los datos sin este punto (df_swu)",
   "metadata": {
    "cell_id": "2bcda718-7454-4400-ab73-743d1e19b147",
    "tags": [],
    "is_collapsed": false,
    "deepnote_cell_type": "text-cell-p"
   }
  },
  {
   "cell_type": "code",
   "metadata": {
    "cell_id": "3fa66a88-598f-4c03-b03a-40d441353495",
    "tags": [],
    "deepnote_to_be_reexecuted": false,
    "source_hash": "129d63b7",
    "execution_start": 1645552592752,
    "execution_millis": 581,
    "deepnote_cell_type": "code"
   },
   "source": "sns.lmplot(data=df_swu, x='Stores', y='Sales')",
   "execution_count": null,
   "outputs": [
    {
     "output_type": "execute_result",
     "execution_count": 118,
     "data": {
      "text/plain": "<seaborn.axisgrid.FacetGrid at 0x7f64bac19e50>"
     },
     "metadata": {}
    },
    {
     "data": {
      "text/plain": "<Figure size 360x360 with 1 Axes>",
      "image/png": "[encoded data removed]"
     },
     "metadata": {
      "needs_background": "light",
      "image/png": {
       "width": 352,
       "height": 352
      }
     },
     "output_type": "display_data"
    }
   ]
  },
  {
   "cell_type": "markdown",
   "source": "#### Observaciones de la pregunta 4:\n- Se graficó añadiendo una línea de tendencia y un indicador visual de la desviación de los datos al comparar la cantidad de tiendas en el eje X con las ventas en el eje Y.\n- Se puede observar que **los datos se alejan de la línea** y la desviación de los datos se vuelve cada vez mas grande a medida que se incrementa la cantidad de tiendas. \n#### Conclusiones de la pregunta 4:\n- **Las dos compañías con mas tiendas** están *visiblemente* cerca del nivel de ventas de las tiendas que tienen **menos ingresos**.\n- Se puede concluir que **no hay relacion** entre la cantidad de tiendas y el nivel de ingresos de la compañia",
   "metadata": {
    "cell_id": "cfc51a60-643f-41f0-ba21-fa54572a3e70",
    "tags": [],
    "deepnote_cell_type": "markdown"
   }
  },
  {
   "cell_type": "markdown",
   "source": "### 5. ¿Cuál es el rango que existe entre las ventas?",
   "metadata": {
    "cell_id": "d296130b-b739-4424-8c5d-8dc8b6fc8ee5",
    "tags": [],
    "deepnote_cell_type": "markdown"
   }
  },
  {
   "cell_type": "markdown",
   "source": "El intervalo entre la tienda que genera menos ingresos y la tienda que genera mas ingresos se determina con la siguiente metodología: ",
   "metadata": {
    "cell_id": "15b55a65-a326-4fc2-8009-90480877957f",
    "tags": [],
    "is_collapsed": false,
    "deepnote_cell_type": "text-cell-p"
   }
  },
  {
   "cell_type": "code",
   "metadata": {
    "cell_id": "277da6f7-0300-4156-91e5-9765eb1f3752",
    "tags": [],
    "deepnote_to_be_reexecuted": false,
    "source_hash": "b69bb77b",
    "execution_start": 1645554015316,
    "execution_millis": 5,
    "deepnote_cell_type": "code"
   },
   "source": "gan_max = df['Sales'].max()\ngan_min = df['Sales'].min()\nprint(f\"El rango que existe entre los ingresos de las diferentes comañias \" +\n      f\"esta entre los ${gan_min} y los ${gan_max}.\")",
   "execution_count": null,
   "outputs": [
    {
     "name": "stdout",
     "text": "El rango que existe entre los ingresos de las diferentes comañias esta entre los $16592 y los $658119.\n",
     "output_type": "stream"
    }
   ]
  },
  {
   "cell_type": "markdown",
   "source": "#### Conclusión de la pregunta 5:\n- El rango que existe entre los ingresos de las diferentes comañias esta entre los $16592 y los $658119.\n",
   "metadata": {
    "cell_id": "d4dec94b-6e3c-47b6-9280-188dec74f03b",
    "tags": [],
    "deepnote_cell_type": "markdown"
   }
  },
  {
   "cell_type": "markdown",
   "source": "### 6. ¿Cuáles son las 5 empresas que más tiendas físicas tienen? ¿Cuáles de ellas están dentro de las 5 empresas que más ventas tuvieron?",
   "metadata": {
    "cell_id": "6c36ddc3-51ef-4017-a6f9-06cbb8b970e4",
    "tags": [],
    "deepnote_cell_type": "markdown"
   }
  },
  {
   "cell_type": "markdown",
   "source": "Primero organizamos los datos de manera descendente en función del numero de tiendas físicas",
   "metadata": {
    "cell_id": "65c27e68-7e39-4f0f-bf71-19d8f760427f",
    "tags": [],
    "is_collapsed": false,
    "deepnote_cell_type": "text-cell-p"
   }
  },
  {
   "cell_type": "code",
   "metadata": {
    "cell_id": "1295319d-09d0-42f0-9de0-ff0e689f400f",
    "tags": [],
    "deepnote_to_be_reexecuted": false,
    "source_hash": "e7aee994",
    "execution_start": 1645556741927,
    "execution_millis": 12,
    "deepnote_cell_type": "code"
   },
   "source": "df_sort_nstores = df.sort_values('Stores', ascending=0)\ndf_sort_nstores.head(5)",
   "execution_count": null,
   "outputs": [
    {
     "output_type": "execute_result",
     "execution_count": 146,
     "data": {
      "application/vnd.deepnote.dataframe.v3+json": {
       "column_count": 6,
       "row_count": 5,
       "columns": [
        {
         "name": "Company",
         "dtype": "object",
         "stats": {
          "unique_count": 5,
          "nan_count": 0,
          "categories": [
           {
            "name": "Dollar Tree",
            "count": 1
           },
           {
            "name": "Dollar General",
            "count": 1
           },
           {
            "name": "3 others",
            "count": 3
           }
          ]
         }
        },
        {
         "name": "Sales",
         "dtype": "int64",
         "stats": {
          "unique_count": 5,
          "nan_count": 0,
          "min": "21464",
          "max": "658119",
          "histogram": [
           {
            "bin_start": 21464,
            "bin_end": 85129.5,
            "count": 4
           },
           {
            "bin_start": 85129.5,
            "bin_end": 148795,
            "count": 0
           },
           {
            "bin_start": 148795,
            "bin_end": 212460.5,
            "count": 0
           },
           {
            "bin_start": 212460.5,
            "bin_end": 276126,
            "count": 0
           },
           {
            "bin_start": 276126,
            "bin_end": 339791.5,
            "count": 0
           },
           {
            "bin_start": 339791.5,
            "bin_end": 403457,
            "count": 0
           },
           {
            "bin_start": 403457,
            "bin_end": 467122.5,
            "count": 0
           },
           {
            "bin_start": 467122.5,
            "bin_end": 530788,
            "count": 0
           },
           {
            "bin_start": 530788,
            "bin_end": 594453.5,
            "count": 0
           },
           {
            "bin_start": 594453.5,
            "bin_end": 658119,
            "count": 1
           }
          ]
         }
        },
        {
         "name": "Stores",
         "dtype": "float64",
         "stats": {
          "unique_count": 5,
          "nan_count": 0,
          "min": "4574.0",
          "max": "14250.0",
          "histogram": [
           {
            "bin_start": 4574,
            "bin_end": 5541.6,
            "count": 1
           },
           {
            "bin_start": 5541.6,
            "bin_end": 6509.2,
            "count": 0
           },
           {
            "bin_start": 6509.2,
            "bin_end": 7476.8,
            "count": 0
           },
           {
            "bin_start": 7476.8,
            "bin_end": 8444.4,
            "count": 1
           },
           {
            "bin_start": 8444.4,
            "bin_end": 9412,
            "count": 0
           },
           {
            "bin_start": 9412,
            "bin_end": 10379.6,
            "count": 1
           },
           {
            "bin_start": 10379.6,
            "bin_end": 11347.2,
            "count": 0
           },
           {
            "bin_start": 11347.2,
            "bin_end": 12314.8,
            "count": 0
           },
           {
            "bin_start": 12314.8,
            "bin_end": 13282.4,
            "count": 0
           },
           {
            "bin_start": 13282.4,
            "bin_end": 14250,
            "count": 2
           }
          ]
         }
        },
        {
         "name": "Sales/Avg. Store",
         "dtype": "float64",
         "stats": {
          "unique_count": 5,
          "nan_count": 0,
          "min": "1.56391854",
          "max": "65.64972497",
          "histogram": [
           {
            "bin_start": 1.56391854,
            "bin_end": 7.972499182999998,
            "count": 2
           },
           {
            "bin_start": 7.972499182999998,
            "bin_end": 14.381079825999997,
            "count": 2
           },
           {
            "bin_start": 14.381079825999997,
            "bin_end": 20.789660468999994,
            "count": 0
           },
           {
            "bin_start": 20.789660468999994,
            "bin_end": 27.198241111999995,
            "count": 0
           },
           {
            "bin_start": 27.198241111999995,
            "bin_end": 33.606821755,
            "count": 0
           },
           {
            "bin_start": 33.606821755,
            "bin_end": 40.01540239799999,
            "count": 0
           },
           {
            "bin_start": 40.01540239799999,
            "bin_end": 46.42398304099999,
            "count": 0
           },
           {
            "bin_start": 46.42398304099999,
            "bin_end": 52.83256368399999,
            "count": 0
           },
           {
            "bin_start": 52.83256368399999,
            "bin_end": 59.24114432699999,
            "count": 0
           },
           {
            "bin_start": 59.24114432699999,
            "bin_end": 65.64972497,
            "count": 1
           }
          ]
         }
        },
        {
         "name": "Store Count Growth",
         "dtype": "float64",
         "stats": {
          "unique_count": 5,
          "nan_count": 0,
          "min": "-0.01051069618",
          "max": "0.2556621881",
          "histogram": [
           {
            "bin_start": -0.01051069618,
            "bin_end": 0.016106592248000005,
            "count": 2
           },
           {
            "bin_start": 0.016106592248000005,
            "bin_end": 0.042723880676000005,
            "count": 0
           },
           {
            "bin_start": 0.042723880676000005,
            "bin_end": 0.06934116910400001,
            "count": 0
           },
           {
            "bin_start": 0.06934116910400001,
            "bin_end": 0.09595845753200001,
            "count": 1
           },
           {
            "bin_start": 0.09595845753200001,
            "bin_end": 0.12257574596000001,
            "count": 0
           },
           {
            "bin_start": 0.12257574596000001,
            "bin_end": 0.14919303438800002,
            "count": 1
           },
           {
            "bin_start": 0.14919303438800002,
            "bin_end": 0.175810322816,
            "count": 0
           },
           {
            "bin_start": 0.175810322816,
            "bin_end": 0.20242761124400002,
            "count": 0
           },
           {
            "bin_start": 0.20242761124400002,
            "bin_end": 0.22904489967200004,
            "count": 0
           },
           {
            "bin_start": 0.22904489967200004,
            "bin_end": 0.2556621881,
            "count": 1
           }
          ]
         }
        },
        {
         "name": "Category",
         "dtype": "object",
         "stats": {
          "unique_count": 3,
          "nan_count": 0,
          "categories": [
           {
            "name": "Dollar Stores",
            "count": 2
           },
           {
            "name": "Drug Stores",
            "count": 2
           },
           {
            "name": "Supercenters",
            "count": 1
           }
          ]
         }
        },
        {
         "name": "_deepnote_index_column",
         "dtype": "int64"
        }
       ],
       "rows": [
        {
         "Company": "Dollar Tree",
         "Sales": 21464,
         "Stores": 14250,
         "Sales/Avg. Store": 1.56391854,
         "Store Count Growth": 0.07962724449,
         "Category": "Dollar Stores",
         "_deepnote_index_column": 20
        },
        {
         "Company": "Dollar General",
         "Sales": 22234,
         "Stores": 13350,
         "Sales/Avg. Store": 1.768884999,
         "Store Count Growth": 0.1324115701,
         "Category": "Dollar Stores",
         "_deepnote_index_column": 19
        },
        {
         "Company": "CVS incl. Target",
         "Sales": 77792,
         "Stores": 9813,
         "Sales/Avg. Store": 8.825958702,
         "Store Count Growth": 0.2556621881,
         "Category": "Drug Stores",
         "_deepnote_index_column": 5
        },
        {
         "Company": "Walgreen Boots",
         "Sales": 78924,
         "Stores": 8002,
         "Sales/Avg. Store": 9.81092672,
         "Store Count Growth": -0.01051069618,
         "Category": "Drug Stores",
         "_deepnote_index_column": 4
        },
        {
         "Company": "Walmart US",
         "Sales": 658119,
         "Stores": 4574,
         "Sales/Avg. Store": 65.64972497,
         "Store Count Growth": 0.01284322409,
         "Category": "Supercenters",
         "_deepnote_index_column": 0
        }
       ]
      },
      "text/plain": "             Company   Sales   Stores  Sales/Avg. Store  Store Count Growth  \\\n20       Dollar Tree   21464  14250.0          1.563919            0.079627   \n19    Dollar General   22234  13350.0          1.768885            0.132412   \n5   CVS incl. Target   77792   9813.0          8.825959            0.255662   \n4     Walgreen Boots   78924   8002.0          9.810927           -0.010511   \n0         Walmart US  658119   4574.0         65.649725            0.012843   \n\n         Category  \n20  Dollar Stores  \n19  Dollar Stores  \n5     Drug Stores  \n4     Drug Stores  \n0    Supercenters  ",
      "text/html": "<div>\n<style scoped>\n    .dataframe tbody tr th:only-of-type {\n        vertical-align: middle;\n    }\n\n    .dataframe tbody tr th {\n        vertical-align: top;\n    }\n\n    .dataframe thead th {\n        text-align: right;\n    }\n</style>\n<table border=\"1\" class=\"dataframe\">\n  <thead>\n    <tr style=\"text-align: right;\">\n      <th></th>\n      <th>Company</th>\n      <th>Sales</th>\n      <th>Stores</th>\n      <th>Sales/Avg. Store</th>\n      <th>Store Count Growth</th>\n      <th>Category</th>\n    </tr>\n  </thead>\n  <tbody>\n    <tr>\n      <th>20</th>\n      <td>Dollar Tree</td>\n      <td>21464</td>\n      <td>14250.0</td>\n      <td>1.563919</td>\n      <td>0.079627</td>\n      <td>Dollar Stores</td>\n    </tr>\n    <tr>\n      <th>19</th>\n      <td>Dollar General</td>\n      <td>22234</td>\n      <td>13350.0</td>\n      <td>1.768885</td>\n      <td>0.132412</td>\n      <td>Dollar Stores</td>\n    </tr>\n    <tr>\n      <th>5</th>\n      <td>CVS incl. Target</td>\n      <td>77792</td>\n      <td>9813.0</td>\n      <td>8.825959</td>\n      <td>0.255662</td>\n      <td>Drug Stores</td>\n    </tr>\n    <tr>\n      <th>4</th>\n      <td>Walgreen Boots</td>\n      <td>78924</td>\n      <td>8002.0</td>\n      <td>9.810927</td>\n      <td>-0.010511</td>\n      <td>Drug Stores</td>\n    </tr>\n    <tr>\n      <th>0</th>\n      <td>Walmart US</td>\n      <td>658119</td>\n      <td>4574.0</td>\n      <td>65.649725</td>\n      <td>0.012843</td>\n      <td>Supercenters</td>\n    </tr>\n  </tbody>\n</table>\n</div>"
     },
     "metadata": {}
    }
   ]
  },
  {
   "cell_type": "markdown",
   "source": "Procedemos a verificar cuales son las 5 compañías con mas tiendas físicas.",
   "metadata": {
    "cell_id": "443d9ac4-01a6-4f9d-b3ea-44d93cda4158",
    "tags": [],
    "is_collapsed": false,
    "deepnote_cell_type": "text-cell-p"
   }
  },
  {
   "cell_type": "code",
   "metadata": {
    "cell_id": "a34c205d-78b2-46a0-8be1-a75ad16e0f4d",
    "tags": [],
    "deepnote_to_be_reexecuted": false,
    "source_hash": "a659cca6",
    "execution_start": 1645557355958,
    "execution_millis": 7,
    "deepnote_cell_type": "code"
   },
   "source": "more_phy_s = df_sort_nstores['Company'][:5]\nlist_more_ps = list(more_phy_s)\nprint('Las cinco compañias con mas sucursales son: ')\nfor i in range(len(list_more_ps)):\n    print('- ' + list_more_ps[i])\n",
   "execution_count": null,
   "outputs": [
    {
     "name": "stdout",
     "text": "Las cinco compañias con mas sucursales son: \n- Dollar Tree\n- Dollar General\n- CVS incl. Target\n- Walgreen Boots\n- Walmart US\n",
     "output_type": "stream"
    }
   ]
  },
  {
   "cell_type": "markdown",
   "source": "Modificamos el código que acabamos de usar para obtener las cinco compañías con mas ingresos:",
   "metadata": {
    "cell_id": "41adc7db-d504-4c55-9e13-63725b71ff6d",
    "tags": [],
    "is_collapsed": false,
    "deepnote_cell_type": "text-cell-p"
   }
  },
  {
   "cell_type": "code",
   "metadata": {
    "cell_id": "8230171d-ed77-4e6c-8f72-5d954414e407",
    "tags": [],
    "deepnote_to_be_reexecuted": false,
    "source_hash": "122e07c2",
    "execution_start": 1645556753699,
    "execution_millis": 146,
    "deepnote_cell_type": "code"
   },
   "source": "# Recordamos que ya teniamos organizados los datos en esta variable en funcion de la cantidad de ventas\ndf_sorted.head(5)",
   "execution_count": null,
   "outputs": [
    {
     "output_type": "execute_result",
     "execution_count": 147,
     "data": {
      "application/vnd.deepnote.dataframe.v3+json": {
       "column_count": 6,
       "row_count": 5,
       "columns": [
        {
         "name": "Company",
         "dtype": "object",
         "stats": {
          "unique_count": 5,
          "nan_count": 0,
          "categories": [
           {
            "name": "Walmart US",
            "count": 1
           },
           {
            "name": "Kroger",
            "count": 1
           },
           {
            "name": "3 others",
            "count": 3
           }
          ]
         }
        },
        {
         "name": "Sales",
         "dtype": "int64",
         "stats": {
          "unique_count": 5,
          "nan_count": 0,
          "min": "78924",
          "max": "658119",
          "histogram": [
           {
            "bin_start": 78924,
            "bin_end": 136843.5,
            "count": 4
           },
           {
            "bin_start": 136843.5,
            "bin_end": 194763,
            "count": 0
           },
           {
            "bin_start": 194763,
            "bin_end": 252682.5,
            "count": 0
           },
           {
            "bin_start": 252682.5,
            "bin_end": 310602,
            "count": 0
           },
           {
            "bin_start": 310602,
            "bin_end": 368521.5,
            "count": 0
           },
           {
            "bin_start": 368521.5,
            "bin_end": 426441,
            "count": 0
           },
           {
            "bin_start": 426441,
            "bin_end": 484360.5,
            "count": 0
           },
           {
            "bin_start": 484360.5,
            "bin_end": 542280,
            "count": 0
           },
           {
            "bin_start": 542280,
            "bin_end": 600199.5,
            "count": 0
           },
           {
            "bin_start": 600199.5,
            "bin_end": 658119,
            "count": 1
           }
          ]
         }
        },
        {
         "name": "Stores",
         "dtype": "float64",
         "stats": {
          "unique_count": 5,
          "nan_count": 0,
          "min": "495.0",
          "max": "8002.0",
          "histogram": [
           {
            "bin_start": 495,
            "bin_end": 1245.7,
            "count": 1
           },
           {
            "bin_start": 1245.7,
            "bin_end": 1996.4,
            "count": 1
           },
           {
            "bin_start": 1996.4,
            "bin_end": 2747.1000000000004,
            "count": 0
           },
           {
            "bin_start": 2747.1000000000004,
            "bin_end": 3497.8,
            "count": 0
           },
           {
            "bin_start": 3497.8,
            "bin_end": 4248.5,
            "count": 1
           },
           {
            "bin_start": 4248.5,
            "bin_end": 4999.200000000001,
            "count": 1
           },
           {
            "bin_start": 4999.200000000001,
            "bin_end": 5749.900000000001,
            "count": 0
           },
           {
            "bin_start": 5749.900000000001,
            "bin_end": 6500.6,
            "count": 0
           },
           {
            "bin_start": 6500.6,
            "bin_end": 7251.3,
            "count": 0
           },
           {
            "bin_start": 7251.3,
            "bin_end": 8002,
            "count": 1
           }
          ]
         }
        },
        {
         "name": "Sales/Avg. Store",
         "dtype": "float64",
         "stats": {
          "unique_count": 5,
          "nan_count": 0,
          "min": "9.81092672",
          "max": "187.7956204",
          "histogram": [
           {
            "bin_start": 9.81092672,
            "bin_end": 27.609396087999997,
            "count": 1
           },
           {
            "bin_start": 27.609396087999997,
            "bin_end": 45.407865455999996,
            "count": 2
           },
           {
            "bin_start": 45.407865455999996,
            "bin_end": 63.206334823999995,
            "count": 0
           },
           {
            "bin_start": 63.206334823999995,
            "bin_end": 81.004804192,
            "count": 1
           },
           {
            "bin_start": 81.004804192,
            "bin_end": 98.80327356,
            "count": 0
           },
           {
            "bin_start": 98.80327356,
            "bin_end": 116.601742928,
            "count": 0
           },
           {
            "bin_start": 116.601742928,
            "bin_end": 134.400212296,
            "count": 0
           },
           {
            "bin_start": 134.400212296,
            "bin_end": 152.198681664,
            "count": 0
           },
           {
            "bin_start": 152.198681664,
            "bin_end": 169.99715103199998,
            "count": 0
           },
           {
            "bin_start": 169.99715103199998,
            "bin_end": 187.7956204,
            "count": 1
           }
          ]
         }
        },
        {
         "name": "Store Count Growth",
         "dtype": "float64",
         "stats": {
          "unique_count": 5,
          "nan_count": 0,
          "min": "-0.01051069618",
          "max": "0.06681034483",
          "histogram": [
           {
            "bin_start": -0.01051069618,
            "bin_end": -0.0027785920789999983,
            "count": 1
           },
           {
            "bin_start": -0.0027785920789999983,
            "bin_end": 0.004953512022000003,
            "count": 1
           },
           {
            "bin_start": 0.004953512022000003,
            "bin_end": 0.012685616123000005,
            "count": 0
           },
           {
            "bin_start": 0.012685616123000005,
            "bin_end": 0.020417720224000006,
            "count": 1
           },
           {
            "bin_start": 0.020417720224000006,
            "bin_end": 0.028149824325000003,
            "count": 0
           },
           {
            "bin_start": 0.028149824325000003,
            "bin_end": 0.03588192842600001,
            "count": 0
           },
           {
            "bin_start": 0.03588192842600001,
            "bin_end": 0.043614032527,
            "count": 0
           },
           {
            "bin_start": 0.043614032527,
            "bin_end": 0.05134613662800001,
            "count": 0
           },
           {
            "bin_start": 0.05134613662800001,
            "bin_end": 0.059078240729,
            "count": 1
           },
           {
            "bin_start": 0.059078240729,
            "bin_end": 0.06681034483,
            "count": 1
           }
          ]
         }
        },
        {
         "name": "Category",
         "dtype": "object",
         "stats": {
          "unique_count": 5,
          "nan_count": 0,
          "categories": [
           {
            "name": "Supercenters",
            "count": 1
           },
           {
            "name": "Grocery",
            "count": 1
           },
           {
            "name": "3 others",
            "count": 3
           }
          ]
         }
        },
        {
         "name": "_deepnote_index_column",
         "dtype": "int64"
        }
       ],
       "rows": [
        {
         "Company": "Walmart US",
         "Sales": 658119,
         "Stores": 4574,
         "Sales/Avg. Store": 65.64972497,
         "Store Count Growth": 0.01284322409,
         "Category": "Supercenters",
         "_deepnote_index_column": 0
        },
        {
         "Company": "Kroger",
         "Sales": 115037,
         "Stores": 3931,
         "Sales/Avg. Store": 30.03184963,
         "Store Count Growth": 0.05388739946,
         "Category": "Grocery",
         "_deepnote_index_column": 1
        },
        {
         "Company": "Costco",
         "Sales": 90048,
         "Stores": 495,
         "Sales/Avg. Store": 187.7956204,
         "Store Count Growth": 0.06681034483,
         "Category": "Warehouse Club",
         "_deepnote_index_column": 2
        },
        {
         "Company": "Home Depot",
         "Sales": 83976,
         "Stores": 1965,
         "Sales/Avg. Store": 42.73587786,
         "Store Count Growth": 0,
         "Category": "Home Improvement",
         "_deepnote_index_column": 3
        },
        {
         "Company": "Walgreen Boots",
         "Sales": 78924,
         "Stores": 8002,
         "Sales/Avg. Store": 9.81092672,
         "Store Count Growth": -0.01051069618,
         "Category": "Drug Stores",
         "_deepnote_index_column": 4
        }
       ]
      },
      "text/plain": "          Company   Sales  Stores  Sales/Avg. Store  Store Count Growth  \\\n0      Walmart US  658119  4574.0         65.649725            0.012843   \n1          Kroger  115037  3931.0         30.031850            0.053887   \n2          Costco   90048   495.0        187.795620            0.066810   \n3      Home Depot   83976  1965.0         42.735878            0.000000   \n4  Walgreen Boots   78924  8002.0          9.810927           -0.010511   \n\n           Category  \n0      Supercenters  \n1           Grocery  \n2    Warehouse Club  \n3  Home Improvement  \n4       Drug Stores  ",
      "text/html": "<div>\n<style scoped>\n    .dataframe tbody tr th:only-of-type {\n        vertical-align: middle;\n    }\n\n    .dataframe tbody tr th {\n        vertical-align: top;\n    }\n\n    .dataframe thead th {\n        text-align: right;\n    }\n</style>\n<table border=\"1\" class=\"dataframe\">\n  <thead>\n    <tr style=\"text-align: right;\">\n      <th></th>\n      <th>Company</th>\n      <th>Sales</th>\n      <th>Stores</th>\n      <th>Sales/Avg. Store</th>\n      <th>Store Count Growth</th>\n      <th>Category</th>\n    </tr>\n  </thead>\n  <tbody>\n    <tr>\n      <th>0</th>\n      <td>Walmart US</td>\n      <td>658119</td>\n      <td>4574.0</td>\n      <td>65.649725</td>\n      <td>0.012843</td>\n      <td>Supercenters</td>\n    </tr>\n    <tr>\n      <th>1</th>\n      <td>Kroger</td>\n      <td>115037</td>\n      <td>3931.0</td>\n      <td>30.031850</td>\n      <td>0.053887</td>\n      <td>Grocery</td>\n    </tr>\n    <tr>\n      <th>2</th>\n      <td>Costco</td>\n      <td>90048</td>\n      <td>495.0</td>\n      <td>187.795620</td>\n      <td>0.066810</td>\n      <td>Warehouse Club</td>\n    </tr>\n    <tr>\n      <th>3</th>\n      <td>Home Depot</td>\n      <td>83976</td>\n      <td>1965.0</td>\n      <td>42.735878</td>\n      <td>0.000000</td>\n      <td>Home Improvement</td>\n    </tr>\n    <tr>\n      <th>4</th>\n      <td>Walgreen Boots</td>\n      <td>78924</td>\n      <td>8002.0</td>\n      <td>9.810927</td>\n      <td>-0.010511</td>\n      <td>Drug Stores</td>\n    </tr>\n  </tbody>\n</table>\n</div>"
     },
     "metadata": {}
    }
   ]
  },
  {
   "cell_type": "code",
   "metadata": {
    "cell_id": "1b66687c-b5be-4408-af11-69cb380a12e1",
    "tags": [],
    "deepnote_to_be_reexecuted": false,
    "source_hash": "bdc6e338",
    "execution_start": 1645557392789,
    "execution_millis": 186,
    "deepnote_cell_type": "code"
   },
   "source": "more_sales = df_sorted['Company'][:5]\nlist_more_sales = list(more_sales)\nprint('Las cinco compañias con mas ventas son: ')\nfor i in range(len(list_more_sales)):\n    print('- ' + list_more_sales[i])",
   "execution_count": null,
   "outputs": [
    {
     "name": "stdout",
     "text": "Las cinco compañias con mas ventas son: \n- Walmart US\n- Kroger\n- Costco\n- Home Depot\n- Walgreen Boots\n",
     "output_type": "stream"
    }
   ]
  },
  {
   "cell_type": "markdown",
   "source": "Finalmente comparamos las dos listas obtenidas para ver si hay coincidencias:",
   "metadata": {
    "cell_id": "e969bf7a-ad37-47fd-a097-b76d4f221f00",
    "tags": [],
    "is_collapsed": false,
    "deepnote_cell_type": "text-cell-p"
   }
  },
  {
   "cell_type": "code",
   "metadata": {
    "cell_id": "fef785ac-3eed-4bf7-be0a-e84c5386bb3e",
    "tags": [],
    "deepnote_to_be_reexecuted": false,
    "source_hash": "b013b022",
    "execution_start": 1645557173525,
    "execution_millis": 8,
    "deepnote_cell_type": "code"
   },
   "source": "print('Las compañias que estan entre las 5 con mas ingresos y las 5 con mas sucursales fisicas son:')\nfor i in range(len(list_more_ps)):\n    for j in range(len(list_more_ps)):\n        if list_more_ps[i] == list_more_sales[j]:\n            print('- ' + list_more_sales[j])",
   "execution_count": null,
   "outputs": [
    {
     "name": "stdout",
     "text": "Las compañias que estan entre las 5 con mas ingresos y las 5 con mas sucursales fisicas son:\n- Walgreen Boots\n- Walmart US\n",
     "output_type": "stream"
    }
   ]
  },
  {
   "cell_type": "markdown",
   "source": "#### Conclusión de la pregunta 6:\n- Las compañias que estan entre las 5 con mas ingresos y las 5 con mas sucursales fisicas son:\n    - Walgreen Boots\n    - Walmart US",
   "metadata": {
    "cell_id": "847c0d29-339a-4525-ad31-b876866d2688",
    "tags": [],
    "deepnote_cell_type": "markdown"
   }
  },
  {
   "cell_type": "markdown",
   "source": "## II. Preguntas opcionales",
   "metadata": {
    "cell_id": "7d1d5db9-ad1d-4081-968b-bea1357e236a",
    "tags": [],
    "deepnote_cell_type": "markdown"
   }
  },
  {
   "cell_type": "markdown",
   "source": "### 7. ¿Qué categoría de compañía generó más ventas?",
   "metadata": {
    "cell_id": "27e5ddcb-8674-4809-844e-8c3442430be1",
    "tags": [],
    "deepnote_cell_type": "markdown"
   }
  },
  {
   "cell_type": "markdown",
   "source": "Iniciamos con una grafica para comparar categorías con ventas",
   "metadata": {
    "cell_id": "1d255245-fc8f-452b-a883-a2f83b4813a9",
    "tags": [],
    "is_collapsed": false,
    "deepnote_cell_type": "text-cell-p"
   }
  },
  {
   "cell_type": "code",
   "metadata": {
    "cell_id": "fcc0ff72-f954-4023-b187-f43c7ecc77ce",
    "tags": [],
    "deepnote_to_be_reexecuted": false,
    "source_hash": "2d2f7198",
    "execution_start": 1645557652420,
    "execution_millis": 937,
    "deepnote_cell_type": "code"
   },
   "source": "sns.barplot(data=df, x='Sales', y='Category')",
   "execution_count": null,
   "outputs": [
    {
     "output_type": "execute_result",
     "execution_count": 157,
     "data": {
      "text/plain": "<AxesSubplot:xlabel='Sales', ylabel='Category'>"
     },
     "metadata": {}
    },
    {
     "data": {
      "text/plain": "<Figure size 432x288 with 1 Axes>",
      "image/png": "[encoded data removed]"
     },
     "metadata": {
      "needs_background": "light",
      "image/png": {
       "width": 474,
       "height": 262
      }
     },
     "output_type": "display_data"
    }
   ]
  },
  {
   "cell_type": "markdown",
   "source": "En la grafica de arriba se observa que la barra de \"Supercenters\" tiene los valores mas altos, pero también indica un error considerable, así que se procede a aislar los datos de interés y construir un dataset en donde se comparan las categorías con la suma de todas las ventas asociadas a cada categoría y después realizar una grafica de barras:",
   "metadata": {
    "cell_id": "9fb745a2-8682-450e-a9f8-be6364759493",
    "tags": [],
    "is_collapsed": false,
    "deepnote_cell_type": "text-cell-p"
   }
  },
  {
   "cell_type": "code",
   "metadata": {
    "cell_id": "9c23a312-b6bb-4444-a2a4-a79087e35781",
    "tags": [],
    "deepnote_to_be_reexecuted": false,
    "source_hash": "30a90b9a",
    "execution_start": 1645566601028,
    "execution_millis": 396,
    "deepnote_table_state": {
     "pageSize": 10,
     "pageIndex": 0,
     "filters": [],
     "sortBy": []
    },
    "deepnote_table_loading": false,
    "deepnote_cell_type": "code"
   },
   "source": "category_df = df.groupby('Category')['Sales'].sum()\ndict(category_df)\narr_dict = {\n    'Category': [],\n    'Sales': []\n}\nfor i,j in dict(category_df).items():\n    arr_dict['Category'].append(i)\n    arr_dict['Sales'].append(j)\n\npd_df_cat_sales = pd.DataFrame(arr_dict)\n\nsns.barplot(data=pd_df_cat_sales, x='Sales', y='Category')\n",
   "execution_count": null,
   "outputs": [
    {
     "output_type": "execute_result",
     "execution_count": 31,
     "data": {
      "text/plain": "<AxesSubplot:xlabel='Sales', ylabel='Category'>"
     },
     "metadata": {}
    },
    {
     "data": {
      "text/plain": "<Figure size 432x288 with 1 Axes>",
      "image/png": "[encoded data removed]"
     },
     "metadata": {
      "needs_background": "light",
      "image/png": {
       "width": 474,
       "height": 262
      }
     },
     "output_type": "display_data"
    }
   ]
  },
  {
   "cell_type": "markdown",
   "source": "#### Conclusion de la pregunta 7:\n- En la grafica de arriba se puede confirmar que la categoria de **\"Supercenters\"** aglomera la mayor cantidad de ingresos.",
   "metadata": {
    "cell_id": "31399298-6ed0-4d03-98e0-ecd2d237130e",
    "tags": [],
    "deepnote_cell_type": "markdown"
   }
  },
  {
   "cell_type": "markdown",
   "source": "### 8. ¿Cuál es la compañía que en relación con su cantidad de tiendas físicas genera más ventas?",
   "metadata": {
    "cell_id": "33668883-9f01-485c-bdf9-822cd13ad952",
    "tags": [],
    "deepnote_cell_type": "markdown"
   }
  },
  {
   "cell_type": "markdown",
   "source": "Se partirá de crear otro dataframe con una nueva columna con el resultado de hacer la división \"Sales\"/\"Stores\"",
   "metadata": {
    "cell_id": "187ce711-a6fb-490b-bac9-baf2cccf0f2c",
    "tags": [],
    "is_collapsed": false,
    "deepnote_cell_type": "text-cell-p"
   }
  },
  {
   "cell_type": "code",
   "metadata": {
    "cell_id": "903008ff-c22d-431e-8130-a954a94b16e8",
    "tags": [],
    "deepnote_to_be_reexecuted": false,
    "source_hash": "16e013e1",
    "execution_start": 1645568860293,
    "execution_millis": 10,
    "deepnote_cell_type": "code"
   },
   "source": "df['salestores'] = df['Sales']/df['Stores']\ndf.head(5)",
   "execution_count": null,
   "outputs": [
    {
     "output_type": "execute_result",
     "execution_count": 40,
     "data": {
      "application/vnd.deepnote.dataframe.v3+json": {
       "column_count": 7,
       "row_count": 5,
       "columns": [
        {
         "name": "Company",
         "dtype": "object",
         "stats": {
          "unique_count": 5,
          "nan_count": 0,
          "categories": [
           {
            "name": "Walmart US",
            "count": 1
           },
           {
            "name": "Kroger",
            "count": 1
           },
           {
            "name": "3 others",
            "count": 3
           }
          ]
         }
        },
        {
         "name": "Sales",
         "dtype": "int64",
         "stats": {
          "unique_count": 5,
          "nan_count": 0,
          "min": "78924",
          "max": "658119",
          "histogram": [
           {
            "bin_start": 78924,
            "bin_end": 136843.5,
            "count": 4
           },
           {
            "bin_start": 136843.5,
            "bin_end": 194763,
            "count": 0
           },
           {
            "bin_start": 194763,
            "bin_end": 252682.5,
            "count": 0
           },
           {
            "bin_start": 252682.5,
            "bin_end": 310602,
            "count": 0
           },
           {
            "bin_start": 310602,
            "bin_end": 368521.5,
            "count": 0
           },
           {
            "bin_start": 368521.5,
            "bin_end": 426441,
            "count": 0
           },
           {
            "bin_start": 426441,
            "bin_end": 484360.5,
            "count": 0
           },
           {
            "bin_start": 484360.5,
            "bin_end": 542280,
            "count": 0
           },
           {
            "bin_start": 542280,
            "bin_end": 600199.5,
            "count": 0
           },
           {
            "bin_start": 600199.5,
            "bin_end": 658119,
            "count": 1
           }
          ]
         }
        },
        {
         "name": "Stores",
         "dtype": "float64",
         "stats": {
          "unique_count": 5,
          "nan_count": 0,
          "min": "495.0",
          "max": "8002.0",
          "histogram": [
           {
            "bin_start": 495,
            "bin_end": 1245.7,
            "count": 1
           },
           {
            "bin_start": 1245.7,
            "bin_end": 1996.4,
            "count": 1
           },
           {
            "bin_start": 1996.4,
            "bin_end": 2747.1000000000004,
            "count": 0
           },
           {
            "bin_start": 2747.1000000000004,
            "bin_end": 3497.8,
            "count": 0
           },
           {
            "bin_start": 3497.8,
            "bin_end": 4248.5,
            "count": 1
           },
           {
            "bin_start": 4248.5,
            "bin_end": 4999.200000000001,
            "count": 1
           },
           {
            "bin_start": 4999.200000000001,
            "bin_end": 5749.900000000001,
            "count": 0
           },
           {
            "bin_start": 5749.900000000001,
            "bin_end": 6500.6,
            "count": 0
           },
           {
            "bin_start": 6500.6,
            "bin_end": 7251.3,
            "count": 0
           },
           {
            "bin_start": 7251.3,
            "bin_end": 8002,
            "count": 1
           }
          ]
         }
        },
        {
         "name": "Sales/Avg. Store",
         "dtype": "float64",
         "stats": {
          "unique_count": 5,
          "nan_count": 0,
          "min": "9.81092672",
          "max": "187.7956204",
          "histogram": [
           {
            "bin_start": 9.81092672,
            "bin_end": 27.609396087999997,
            "count": 1
           },
           {
            "bin_start": 27.609396087999997,
            "bin_end": 45.407865455999996,
            "count": 2
           },
           {
            "bin_start": 45.407865455999996,
            "bin_end": 63.206334823999995,
            "count": 0
           },
           {
            "bin_start": 63.206334823999995,
            "bin_end": 81.004804192,
            "count": 1
           },
           {
            "bin_start": 81.004804192,
            "bin_end": 98.80327356,
            "count": 0
           },
           {
            "bin_start": 98.80327356,
            "bin_end": 116.601742928,
            "count": 0
           },
           {
            "bin_start": 116.601742928,
            "bin_end": 134.400212296,
            "count": 0
           },
           {
            "bin_start": 134.400212296,
            "bin_end": 152.198681664,
            "count": 0
           },
           {
            "bin_start": 152.198681664,
            "bin_end": 169.99715103199998,
            "count": 0
           },
           {
            "bin_start": 169.99715103199998,
            "bin_end": 187.7956204,
            "count": 1
           }
          ]
         }
        },
        {
         "name": "Store Count Growth",
         "dtype": "float64",
         "stats": {
          "unique_count": 5,
          "nan_count": 0,
          "min": "-0.01051069618",
          "max": "0.06681034483",
          "histogram": [
           {
            "bin_start": -0.01051069618,
            "bin_end": -0.0027785920789999983,
            "count": 1
           },
           {
            "bin_start": -0.0027785920789999983,
            "bin_end": 0.004953512022000003,
            "count": 1
           },
           {
            "bin_start": 0.004953512022000003,
            "bin_end": 0.012685616123000005,
            "count": 0
           },
           {
            "bin_start": 0.012685616123000005,
            "bin_end": 0.020417720224000006,
            "count": 1
           },
           {
            "bin_start": 0.020417720224000006,
            "bin_end": 0.028149824325000003,
            "count": 0
           },
           {
            "bin_start": 0.028149824325000003,
            "bin_end": 0.03588192842600001,
            "count": 0
           },
           {
            "bin_start": 0.03588192842600001,
            "bin_end": 0.043614032527,
            "count": 0
           },
           {
            "bin_start": 0.043614032527,
            "bin_end": 0.05134613662800001,
            "count": 0
           },
           {
            "bin_start": 0.05134613662800001,
            "bin_end": 0.059078240729,
            "count": 1
           },
           {
            "bin_start": 0.059078240729,
            "bin_end": 0.06681034483,
            "count": 1
           }
          ]
         }
        },
        {
         "name": "Category",
         "dtype": "object",
         "stats": {
          "unique_count": 5,
          "nan_count": 0,
          "categories": [
           {
            "name": "Supercenters",
            "count": 1
           },
           {
            "name": "Grocery",
            "count": 1
           },
           {
            "name": "3 others",
            "count": 3
           }
          ]
         }
        },
        {
         "name": "salestores",
         "dtype": "float64",
         "stats": {
          "unique_count": 5,
          "nan_count": 0,
          "min": "9.86303424143964",
          "max": "181.9151515151515",
          "histogram": [
           {
            "bin_start": 9.86303424143964,
            "bin_end": 27.068245968810828,
            "count": 1
           },
           {
            "bin_start": 27.068245968810828,
            "bin_end": 44.273457696182014,
            "count": 2
           },
           {
            "bin_start": 44.273457696182014,
            "bin_end": 61.4786694235532,
            "count": 0
           },
           {
            "bin_start": 61.4786694235532,
            "bin_end": 78.68388115092438,
            "count": 0
           },
           {
            "bin_start": 78.68388115092438,
            "bin_end": 95.88909287829557,
            "count": 0
           },
           {
            "bin_start": 95.88909287829557,
            "bin_end": 113.09430460566675,
            "count": 0
           },
           {
            "bin_start": 113.09430460566675,
            "bin_end": 130.29951633303793,
            "count": 0
           },
           {
            "bin_start": 130.29951633303793,
            "bin_end": 147.50472806040912,
            "count": 1
           },
           {
            "bin_start": 147.50472806040912,
            "bin_end": 164.7099397877803,
            "count": 0
           },
           {
            "bin_start": 164.7099397877803,
            "bin_end": 181.9151515151515,
            "count": 1
           }
          ]
         }
        },
        {
         "name": "_deepnote_index_column",
         "dtype": "int64"
        }
       ],
       "rows": [
        {
         "Company": "Walmart US",
         "Sales": 658119,
         "Stores": 4574,
         "Sales/Avg. Store": 65.64972497,
         "Store Count Growth": 0.01284322409,
         "Category": "Supercenters",
         "salestores": 143.88259728902491,
         "_deepnote_index_column": 0
        },
        {
         "Company": "Kroger",
         "Sales": 115037,
         "Stores": 3931,
         "Sales/Avg. Store": 30.03184963,
         "Store Count Growth": 0.05388739946,
         "Category": "Grocery",
         "salestores": 29.26405494785042,
         "_deepnote_index_column": 1
        },
        {
         "Company": "Costco",
         "Sales": 90048,
         "Stores": 495,
         "Sales/Avg. Store": 187.7956204,
         "Store Count Growth": 0.06681034483,
         "Category": "Warehouse Club",
         "salestores": 181.9151515151515,
         "_deepnote_index_column": 2
        },
        {
         "Company": "Home Depot",
         "Sales": 83976,
         "Stores": 1965,
         "Sales/Avg. Store": 42.73587786,
         "Store Count Growth": 0,
         "Category": "Home Improvement",
         "salestores": 42.73587786259542,
         "_deepnote_index_column": 3
        },
        {
         "Company": "Walgreen Boots",
         "Sales": 78924,
         "Stores": 8002,
         "Sales/Avg. Store": 9.81092672,
         "Store Count Growth": -0.01051069618,
         "Category": "Drug Stores",
         "salestores": 9.86303424143964,
         "_deepnote_index_column": 4
        }
       ]
      },
      "text/plain": "          Company   Sales  Stores  Sales/Avg. Store  Store Count Growth  \\\n0      Walmart US  658119  4574.0         65.649725            0.012843   \n1          Kroger  115037  3931.0         30.031850            0.053887   \n2          Costco   90048   495.0        187.795620            0.066810   \n3      Home Depot   83976  1965.0         42.735878            0.000000   \n4  Walgreen Boots   78924  8002.0          9.810927           -0.010511   \n\n           Category  salestores  \n0      Supercenters  143.882597  \n1           Grocery   29.264055  \n2    Warehouse Club  181.915152  \n3  Home Improvement   42.735878  \n4       Drug Stores    9.863034  ",
      "text/html": "<div>\n<style scoped>\n    .dataframe tbody tr th:only-of-type {\n        vertical-align: middle;\n    }\n\n    .dataframe tbody tr th {\n        vertical-align: top;\n    }\n\n    .dataframe thead th {\n        text-align: right;\n    }\n</style>\n<table border=\"1\" class=\"dataframe\">\n  <thead>\n    <tr style=\"text-align: right;\">\n      <th></th>\n      <th>Company</th>\n      <th>Sales</th>\n      <th>Stores</th>\n      <th>Sales/Avg. Store</th>\n      <th>Store Count Growth</th>\n      <th>Category</th>\n      <th>salestores</th>\n    </tr>\n  </thead>\n  <tbody>\n    <tr>\n      <th>0</th>\n      <td>Walmart US</td>\n      <td>658119</td>\n      <td>4574.0</td>\n      <td>65.649725</td>\n      <td>0.012843</td>\n      <td>Supercenters</td>\n      <td>143.882597</td>\n    </tr>\n    <tr>\n      <th>1</th>\n      <td>Kroger</td>\n      <td>115037</td>\n      <td>3931.0</td>\n      <td>30.031850</td>\n      <td>0.053887</td>\n      <td>Grocery</td>\n      <td>29.264055</td>\n    </tr>\n    <tr>\n      <th>2</th>\n      <td>Costco</td>\n      <td>90048</td>\n      <td>495.0</td>\n      <td>187.795620</td>\n      <td>0.066810</td>\n      <td>Warehouse Club</td>\n      <td>181.915152</td>\n    </tr>\n    <tr>\n      <th>3</th>\n      <td>Home Depot</td>\n      <td>83976</td>\n      <td>1965.0</td>\n      <td>42.735878</td>\n      <td>0.000000</td>\n      <td>Home Improvement</td>\n      <td>42.735878</td>\n    </tr>\n    <tr>\n      <th>4</th>\n      <td>Walgreen Boots</td>\n      <td>78924</td>\n      <td>8002.0</td>\n      <td>9.810927</td>\n      <td>-0.010511</td>\n      <td>Drug Stores</td>\n      <td>9.863034</td>\n    </tr>\n  </tbody>\n</table>\n</div>"
     },
     "metadata": {}
    }
   ]
  },
  {
   "cell_type": "markdown",
   "source": "Ahora tenemos la nueva columna \"salestores\" con el resultado de dividir la los ingresos entre el numero de tiendas físicas.",
   "metadata": {
    "cell_id": "975f8f85-3466-42c7-8162-4a81d3c4d6de",
    "tags": [],
    "is_collapsed": false,
    "deepnote_cell_type": "text-cell-p"
   }
  },
  {
   "cell_type": "code",
   "metadata": {
    "cell_id": "768cb2a9-e821-4862-999f-c3338c4016c6",
    "tags": [],
    "deepnote_to_be_reexecuted": false,
    "source_hash": "c8101a17",
    "execution_start": 1645569259603,
    "execution_millis": 633,
    "deepnote_cell_type": "code"
   },
   "source": "p_c_v_s = sns.barplot(x=\"salestores\", y=\"Company\", data=df)\np_c_v_s.set_xlabel(\"Ventas/Tienda\", fontsize = 20)\np_c_v_s.set_ylabel(\"Compañias\", fontsize = 20)",
   "execution_count": null,
   "outputs": [
    {
     "output_type": "execute_result",
     "execution_count": 43,
     "data": {
      "text/plain": "Text(0, 0.5, 'Compañias')"
     },
     "metadata": {}
    },
    {
     "data": {
      "text/plain": "<Figure size 432x288 with 1 Axes>",
      "image/png": "[encoded data removed]"
     },
     "metadata": {
      "needs_background": "light",
      "image/png": {
       "width": 467,
       "height": 271
      }
     },
     "output_type": "display_data"
    }
   ]
  },
  {
   "cell_type": "markdown",
   "source": "#### Consusiones de la pregunta 8:\n- Observando la grafica de arriba podemos afirmar que la compañia que genera mas ingresos por tienda es Costco, seguida por Walmart US.",
   "metadata": {
    "cell_id": "b345f789-0d70-48e8-9b7a-4add6deb110f",
    "tags": [],
    "deepnote_cell_type": "markdown"
   }
  },
  {
   "cell_type": "markdown",
   "source": "### 9. ¿Cuáles compañías venden de forma exclusivamente online? ¿Sus ventas destacan sobre las que también tienen tiendas físicas?",
   "metadata": {
    "cell_id": "e9a00ffe-de8a-41f0-98e7-67b905d0d14f",
    "tags": [],
    "deepnote_cell_type": "markdown"
   }
  },
  {
   "cell_type": "markdown",
   "source": "Empezaremos buscando los valores no disponibles en la columna Stores, asumiendo que las compañías que venden exclusivamente online no tienen tiendas físicas:",
   "metadata": {
    "cell_id": "e0bf3c99-8df9-4282-9873-763199e75cac",
    "tags": [],
    "is_collapsed": false,
    "deepnote_cell_type": "text-cell-p"
   }
  },
  {
   "cell_type": "code",
   "metadata": {
    "cell_id": "cb6d5d30-783d-44af-9c84-f31689cb3487",
    "tags": [],
    "deepnote_to_be_reexecuted": false,
    "source_hash": "fe0b66f1",
    "execution_start": 1645570083018,
    "execution_millis": 7,
    "deepnote_cell_type": "code"
   },
   "source": "df[df['Stores'].isna()]['Company']",
   "execution_count": null,
   "outputs": [
    {
     "output_type": "execute_result",
     "execution_count": 45,
     "data": {
      "text/plain": "6                 Amazon\n11    Apple incl. Online\nName: Company, dtype: object"
     },
     "metadata": {}
    }
   ]
  },
  {
   "cell_type": "markdown",
   "source": "Vamos a modificar el dataframe para cambiar los valores de \"Cateogry\" de estas empresas por \"Online\" para poder visualizar estas compañías en una grafica",
   "metadata": {
    "cell_id": "959237b7-3603-48fa-bfb9-bc4a4b922bfe",
    "tags": [],
    "is_collapsed": false,
    "deepnote_cell_type": "text-cell-p"
   }
  },
  {
   "cell_type": "code",
   "metadata": {
    "cell_id": "64967676-42cb-4e41-a40c-9660a1b44200",
    "tags": [],
    "deepnote_to_be_reexecuted": false,
    "source_hash": "41abca76",
    "execution_start": 1645573681811,
    "execution_millis": 0,
    "deepnote_table_state": {
     "pageSize": 10,
     "pageIndex": 0,
     "filters": [],
     "sortBy": []
    },
    "deepnote_table_loading": false,
    "deepnote_cell_type": "code"
   },
   "source": "df['type_phy_onl'] = np.where(df['Stores'].isna(), 'Online', 'Physical')\ndf.head(10)",
   "execution_count": null,
   "outputs": [
    {
     "output_type": "execute_result",
     "execution_count": 86,
     "data": {
      "application/vnd.deepnote.dataframe.v3+json": {
       "column_count": 7,
       "row_count": 5,
       "columns": [
        {
         "name": "Company",
         "dtype": "object",
         "stats": {
          "unique_count": 5,
          "nan_count": 0,
          "categories": [
           {
            "name": "Walmart US",
            "count": 1
           },
           {
            "name": "Kroger",
            "count": 1
           },
           {
            "name": "3 others",
            "count": 3
           }
          ]
         }
        },
        {
         "name": "Sales",
         "dtype": "int64",
         "stats": {
          "unique_count": 5,
          "nan_count": 0,
          "min": "78924",
          "max": "658119",
          "histogram": [
           {
            "bin_start": 78924,
            "bin_end": 136843.5,
            "count": 4
           },
           {
            "bin_start": 136843.5,
            "bin_end": 194763,
            "count": 0
           },
           {
            "bin_start": 194763,
            "bin_end": 252682.5,
            "count": 0
           },
           {
            "bin_start": 252682.5,
            "bin_end": 310602,
            "count": 0
           },
           {
            "bin_start": 310602,
            "bin_end": 368521.5,
            "count": 0
           },
           {
            "bin_start": 368521.5,
            "bin_end": 426441,
            "count": 0
           },
           {
            "bin_start": 426441,
            "bin_end": 484360.5,
            "count": 0
           },
           {
            "bin_start": 484360.5,
            "bin_end": 542280,
            "count": 0
           },
           {
            "bin_start": 542280,
            "bin_end": 600199.5,
            "count": 0
           },
           {
            "bin_start": 600199.5,
            "bin_end": 658119,
            "count": 1
           }
          ]
         }
        },
        {
         "name": "Stores",
         "dtype": "float64",
         "stats": {
          "unique_count": 5,
          "nan_count": 0,
          "min": "495.0",
          "max": "8002.0",
          "histogram": [
           {
            "bin_start": 495,
            "bin_end": 1245.7,
            "count": 1
           },
           {
            "bin_start": 1245.7,
            "bin_end": 1996.4,
            "count": 1
           },
           {
            "bin_start": 1996.4,
            "bin_end": 2747.1000000000004,
            "count": 0
           },
           {
            "bin_start": 2747.1000000000004,
            "bin_end": 3497.8,
            "count": 0
           },
           {
            "bin_start": 3497.8,
            "bin_end": 4248.5,
            "count": 1
           },
           {
            "bin_start": 4248.5,
            "bin_end": 4999.200000000001,
            "count": 1
           },
           {
            "bin_start": 4999.200000000001,
            "bin_end": 5749.900000000001,
            "count": 0
           },
           {
            "bin_start": 5749.900000000001,
            "bin_end": 6500.6,
            "count": 0
           },
           {
            "bin_start": 6500.6,
            "bin_end": 7251.3,
            "count": 0
           },
           {
            "bin_start": 7251.3,
            "bin_end": 8002,
            "count": 1
           }
          ]
         }
        },
        {
         "name": "Sales/Avg. Store",
         "dtype": "float64",
         "stats": {
          "unique_count": 5,
          "nan_count": 0,
          "min": "9.81092672",
          "max": "187.7956204",
          "histogram": [
           {
            "bin_start": 9.81092672,
            "bin_end": 27.609396087999997,
            "count": 1
           },
           {
            "bin_start": 27.609396087999997,
            "bin_end": 45.407865455999996,
            "count": 2
           },
           {
            "bin_start": 45.407865455999996,
            "bin_end": 63.206334823999995,
            "count": 0
           },
           {
            "bin_start": 63.206334823999995,
            "bin_end": 81.004804192,
            "count": 1
           },
           {
            "bin_start": 81.004804192,
            "bin_end": 98.80327356,
            "count": 0
           },
           {
            "bin_start": 98.80327356,
            "bin_end": 116.601742928,
            "count": 0
           },
           {
            "bin_start": 116.601742928,
            "bin_end": 134.400212296,
            "count": 0
           },
           {
            "bin_start": 134.400212296,
            "bin_end": 152.198681664,
            "count": 0
           },
           {
            "bin_start": 152.198681664,
            "bin_end": 169.99715103199998,
            "count": 0
           },
           {
            "bin_start": 169.99715103199998,
            "bin_end": 187.7956204,
            "count": 1
           }
          ]
         }
        },
        {
         "name": "Store Count Growth",
         "dtype": "float64",
         "stats": {
          "unique_count": 5,
          "nan_count": 0,
          "min": "-0.01051069618",
          "max": "0.06681034483",
          "histogram": [
           {
            "bin_start": -0.01051069618,
            "bin_end": -0.0027785920789999983,
            "count": 1
           },
           {
            "bin_start": -0.0027785920789999983,
            "bin_end": 0.004953512022000003,
            "count": 1
           },
           {
            "bin_start": 0.004953512022000003,
            "bin_end": 0.012685616123000005,
            "count": 0
           },
           {
            "bin_start": 0.012685616123000005,
            "bin_end": 0.020417720224000006,
            "count": 1
           },
           {
            "bin_start": 0.020417720224000006,
            "bin_end": 0.028149824325000003,
            "count": 0
           },
           {
            "bin_start": 0.028149824325000003,
            "bin_end": 0.03588192842600001,
            "count": 0
           },
           {
            "bin_start": 0.03588192842600001,
            "bin_end": 0.043614032527,
            "count": 0
           },
           {
            "bin_start": 0.043614032527,
            "bin_end": 0.05134613662800001,
            "count": 0
           },
           {
            "bin_start": 0.05134613662800001,
            "bin_end": 0.059078240729,
            "count": 1
           },
           {
            "bin_start": 0.059078240729,
            "bin_end": 0.06681034483,
            "count": 1
           }
          ]
         }
        },
        {
         "name": "Category",
         "dtype": "object",
         "stats": {
          "unique_count": 5,
          "nan_count": 0,
          "categories": [
           {
            "name": "Supercenters",
            "count": 1
           },
           {
            "name": "Grocery",
            "count": 1
           },
           {
            "name": "3 others",
            "count": 3
           }
          ]
         }
        },
        {
         "name": "type_phy_onl",
         "dtype": "object",
         "stats": {
          "unique_count": 1,
          "nan_count": 0,
          "categories": [
           {
            "name": "Physical",
            "count": 5
           }
          ]
         }
        },
        {
         "name": "_deepnote_index_column",
         "dtype": "int64"
        }
       ],
       "rows": [
        {
         "Company": "Walmart US",
         "Sales": 658119,
         "Stores": 4574,
         "Sales/Avg. Store": 65.64972497,
         "Store Count Growth": 0.01284322409,
         "Category": "Supercenters",
         "type_phy_onl": "Physical",
         "_deepnote_index_column": 0
        },
        {
         "Company": "Kroger",
         "Sales": 115037,
         "Stores": 3931,
         "Sales/Avg. Store": 30.03184963,
         "Store Count Growth": 0.05388739946,
         "Category": "Grocery",
         "type_phy_onl": "Physical",
         "_deepnote_index_column": 1
        },
        {
         "Company": "Costco",
         "Sales": 90048,
         "Stores": 495,
         "Sales/Avg. Store": 187.7956204,
         "Store Count Growth": 0.06681034483,
         "Category": "Warehouse Club",
         "type_phy_onl": "Physical",
         "_deepnote_index_column": 2
        },
        {
         "Company": "Home Depot",
         "Sales": 83976,
         "Stores": 1965,
         "Sales/Avg. Store": 42.73587786,
         "Store Count Growth": 0,
         "Category": "Home Improvement",
         "type_phy_onl": "Physical",
         "_deepnote_index_column": 3
        },
        {
         "Company": "Walgreen Boots",
         "Sales": 78924,
         "Stores": 8002,
         "Sales/Avg. Store": 9.81092672,
         "Store Count Growth": -0.01051069618,
         "Category": "Drug Stores",
         "type_phy_onl": "Physical",
         "_deepnote_index_column": 4
        }
       ]
      },
      "text/plain": "          Company   Sales  Stores  Sales/Avg. Store  Store Count Growth  \\\n0      Walmart US  658119  4574.0         65.649725            0.012843   \n1          Kroger  115037  3931.0         30.031850            0.053887   \n2          Costco   90048   495.0        187.795620            0.066810   \n3      Home Depot   83976  1965.0         42.735878            0.000000   \n4  Walgreen Boots   78924  8002.0          9.810927           -0.010511   \n\n           Category type_phy_onl  \n0      Supercenters     Physical  \n1           Grocery     Physical  \n2    Warehouse Club     Physical  \n3  Home Improvement     Physical  \n4       Drug Stores     Physical  ",
      "text/html": "<div>\n<style scoped>\n    .dataframe tbody tr th:only-of-type {\n        vertical-align: middle;\n    }\n\n    .dataframe tbody tr th {\n        vertical-align: top;\n    }\n\n    .dataframe thead th {\n        text-align: right;\n    }\n</style>\n<table border=\"1\" class=\"dataframe\">\n  <thead>\n    <tr style=\"text-align: right;\">\n      <th></th>\n      <th>Company</th>\n      <th>Sales</th>\n      <th>Stores</th>\n      <th>Sales/Avg. Store</th>\n      <th>Store Count Growth</th>\n      <th>Category</th>\n      <th>type_phy_onl</th>\n    </tr>\n  </thead>\n  <tbody>\n    <tr>\n      <th>0</th>\n      <td>Walmart US</td>\n      <td>658119</td>\n      <td>4574.0</td>\n      <td>65.649725</td>\n      <td>0.012843</td>\n      <td>Supercenters</td>\n      <td>Physical</td>\n    </tr>\n    <tr>\n      <th>1</th>\n      <td>Kroger</td>\n      <td>115037</td>\n      <td>3931.0</td>\n      <td>30.031850</td>\n      <td>0.053887</td>\n      <td>Grocery</td>\n      <td>Physical</td>\n    </tr>\n    <tr>\n      <th>2</th>\n      <td>Costco</td>\n      <td>90048</td>\n      <td>495.0</td>\n      <td>187.795620</td>\n      <td>0.066810</td>\n      <td>Warehouse Club</td>\n      <td>Physical</td>\n    </tr>\n    <tr>\n      <th>3</th>\n      <td>Home Depot</td>\n      <td>83976</td>\n      <td>1965.0</td>\n      <td>42.735878</td>\n      <td>0.000000</td>\n      <td>Home Improvement</td>\n      <td>Physical</td>\n    </tr>\n    <tr>\n      <th>4</th>\n      <td>Walgreen Boots</td>\n      <td>78924</td>\n      <td>8002.0</td>\n      <td>9.810927</td>\n      <td>-0.010511</td>\n      <td>Drug Stores</td>\n      <td>Physical</td>\n    </tr>\n  </tbody>\n</table>\n</div>"
     },
     "metadata": {}
    }
   ]
  },
  {
   "cell_type": "markdown",
   "source": "Luego realizaremos una grafica de barras para comparar el desempeño de estas dos compañías con relación a las demás",
   "metadata": {
    "cell_id": "625dfb57-633b-4b29-889b-88494b4f6c6b",
    "tags": [],
    "is_collapsed": false,
    "deepnote_cell_type": "text-cell-p"
   }
  },
  {
   "cell_type": "code",
   "metadata": {
    "cell_id": "7de8247d-4fac-44a3-9117-f495e1f158e9",
    "tags": [],
    "deepnote_to_be_reexecuted": false,
    "source_hash": "441a5602",
    "execution_start": 1645572517164,
    "execution_millis": 863,
    "deepnote_cell_type": "code"
   },
   "source": "sns.barplot(data=df,x=\"Sales\", y=\"Company\", hue=\"type_phy_onl\")",
   "execution_count": null,
   "outputs": [
    {
     "output_type": "execute_result",
     "execution_count": 72,
     "data": {
      "text/plain": "<AxesSubplot:xlabel='Sales', ylabel='Company'>"
     },
     "metadata": {}
    },
    {
     "data": {
      "text/plain": "<Figure size 432x288 with 1 Axes>",
      "image/png": "[encoded data removed]"
     },
     "metadata": {
      "needs_background": "light",
      "image/png": {
       "width": 458,
       "height": 262
      }
     },
     "output_type": "display_data"
    }
   ]
  },
  {
   "cell_type": "markdown",
   "source": "Finalmente compararemos los ingresos de las empresas de venta online con las tiendas físicas.",
   "metadata": {
    "cell_id": "11cf69b7-d06f-47b9-b0b6-4701fcd1dad2",
    "tags": [],
    "is_collapsed": false,
    "deepnote_cell_type": "text-cell-p"
   }
  },
  {
   "cell_type": "code",
   "metadata": {
    "cell_id": "1c700016-8e27-438f-8601-ceac44acc92e",
    "tags": [],
    "deepnote_to_be_reexecuted": false,
    "source_hash": "dcae5c14",
    "execution_start": 1645573011398,
    "execution_millis": 224,
    "deepnote_cell_type": "code"
   },
   "source": "online_df = df.groupby('type_phy_onl')['Sales'].sum()\ndict(online_df)\narr_online_dict = {\n    'Type': [],\n    'Sales': []\n}\nfor i,j in dict(online_df).items():\n    arr_online_dict['Type'].append(i)\n    arr_online_dict['Sales'].append(j)\n\npd_df_type_online = pd.DataFrame(arr_online_dict)\n\nsns.barplot(data=pd_df_type_online, x='Type', y='Sales')",
   "execution_count": null,
   "outputs": [
    {
     "output_type": "execute_result",
     "execution_count": 78,
     "data": {
      "text/plain": "<AxesSubplot:xlabel='Type', ylabel='Sales'>"
     },
     "metadata": {}
    },
    {
     "data": {
      "text/plain": "<Figure size 432x288 with 1 Axes>",
      "image/png": "[encoded data removed]"
     },
     "metadata": {
      "needs_background": "light",
      "image/png": {
       "width": 386,
       "height": 273
      }
     },
     "output_type": "display_data"
    }
   ]
  },
  {
   "cell_type": "code",
   "metadata": {
    "cell_id": "c51c107f-76d5-4dfc-83e1-491d751336d7",
    "tags": [],
    "deepnote_to_be_reexecuted": false,
    "source_hash": "19cdd6e",
    "execution_start": 1645573510622,
    "execution_millis": 61,
    "deepnote_cell_type": "code"
   },
   "source": "online_sales = arr_online_dict[\"Sales\"][0]\nphysical_sales = arr_online_dict[\"Sales\"][1]\n\npercentage_online = round(online_sales*100/physical_sales, 2)\n\nprint(f'Las ventas de compañias que venden exclusivamente online ' +\n      f'representan el {percentage_online}% del total de las ventas')",
   "execution_count": null,
   "outputs": [
    {
     "name": "stdout",
     "text": "Las ventas de compañias que venden exclusivamente online representan el 6.56% del total de las ventas\n",
     "output_type": "stream"
    }
   ]
  },
  {
   "cell_type": "markdown",
   "source": "#### Conclusiones de la pregunta 9:\n- Las ventas de compañias que venden exclusivamente online representan el 6.56% del total de las ventas\n- Con el dato anterior y las graficas, podemos concluir que las compañias que venden exclusivamente online representan una fraccion muy pequeña de las ganancias de todas las empresas del dataset.",
   "metadata": {
    "cell_id": "2b5c588e-011b-445d-840c-0ff4cb093e90",
    "tags": [],
    "deepnote_cell_type": "markdown"
   }
  },
  {
   "cell_type": "markdown",
   "source": "## III. Tus propias preguntas",
   "metadata": {
    "cell_id": "58c80612-3fb2-4c71-9aab-813b121430a0",
    "tags": [],
    "deepnote_cell_type": "markdown"
   }
  },
  {
   "cell_type": "markdown",
   "source": "### 10. ¿Alguna de las 5 compañias que *menos* ganan (Sales) esta entre las 5 compañias que estan abriendo *mas* sucursales (Store Count Growth)?",
   "metadata": {
    "cell_id": "fa60966b-7d95-43f0-9a1e-201f1373f1be",
    "tags": [],
    "deepnote_cell_type": "markdown"
   }
  },
  {
   "cell_type": "code",
   "metadata": {
    "cell_id": "52ea290f-004f-4aaa-8e1a-0d0908996b0a",
    "tags": [],
    "deepnote_to_be_reexecuted": false,
    "source_hash": "28dea010",
    "execution_start": 1645576893248,
    "execution_millis": 3,
    "deepnote_table_state": {
     "pageSize": 10,
     "pageIndex": 0,
     "filters": [],
     "sortBy": []
    },
    "deepnote_table_loading": false,
    "deepnote_cell_type": "code"
   },
   "source": "df.tail(5)",
   "execution_count": null,
   "outputs": [
    {
     "output_type": "execute_result",
     "execution_count": 136,
     "data": {
      "application/vnd.deepnote.dataframe.v3+json": {
       "column_count": 7,
       "row_count": 5,
       "columns": [
        {
         "name": "Company",
         "dtype": "object",
         "stats": {
          "unique_count": 5,
          "nan_count": 0,
          "categories": [
           {
            "name": "Dollar Tree",
            "count": 1
           },
           {
            "name": "HEB",
            "count": 1
           },
           {
            "name": "3 others",
            "count": 3
           }
          ]
         }
        },
        {
         "name": "Sales",
         "dtype": "int64",
         "stats": {
          "unique_count": 5,
          "nan_count": 0,
          "min": "16592",
          "max": "21464",
          "histogram": [
           {
            "bin_start": 16592,
            "bin_end": 17079.2,
            "count": 1
           },
           {
            "bin_start": 17079.2,
            "bin_end": 17566.4,
            "count": 0
           },
           {
            "bin_start": 17566.4,
            "bin_end": 18053.6,
            "count": 0
           },
           {
            "bin_start": 18053.6,
            "bin_end": 18540.8,
            "count": 1
           },
           {
            "bin_start": 18540.8,
            "bin_end": 19028,
            "count": 0
           },
           {
            "bin_start": 19028,
            "bin_end": 19515.2,
            "count": 1
           },
           {
            "bin_start": 19515.2,
            "bin_end": 20002.4,
            "count": 0
           },
           {
            "bin_start": 20002.4,
            "bin_end": 20489.6,
            "count": 0
           },
           {
            "bin_start": 20489.6,
            "bin_end": 20976.8,
            "count": 0
           },
           {
            "bin_start": 20976.8,
            "bin_end": 21464,
            "count": 2
           }
          ]
         }
        },
        {
         "name": "Stores",
         "dtype": "float64",
         "stats": {
          "unique_count": 5,
          "nan_count": 0,
          "min": "231.0",
          "max": "14250.0",
          "histogram": [
           {
            "bin_start": 231,
            "bin_end": 1632.9,
            "count": 4
           },
           {
            "bin_start": 1632.9,
            "bin_end": 3034.8,
            "count": 0
           },
           {
            "bin_start": 3034.8,
            "bin_end": 4436.700000000001,
            "count": 0
           },
           {
            "bin_start": 4436.700000000001,
            "bin_end": 5838.6,
            "count": 0
           },
           {
            "bin_start": 5838.6,
            "bin_end": 7240.5,
            "count": 0
           },
           {
            "bin_start": 7240.5,
            "bin_end": 8642.400000000001,
            "count": 0
           },
           {
            "bin_start": 8642.400000000001,
            "bin_end": 10044.300000000001,
            "count": 0
           },
           {
            "bin_start": 10044.300000000001,
            "bin_end": 11446.2,
            "count": 0
           },
           {
            "bin_start": 11446.2,
            "bin_end": 12848.1,
            "count": 0
           },
           {
            "bin_start": 12848.1,
            "bin_end": 14250,
            "count": 1
           }
          ]
         }
        },
        {
         "name": "Sales/Avg. Store",
         "dtype": "float64",
         "stats": {
          "unique_count": 5,
          "nan_count": 0,
          "min": "1.56391854",
          "max": "74.73873874",
          "histogram": [
           {
            "bin_start": 1.56391854,
            "bin_end": 8.88140056,
            "count": 1
           },
           {
            "bin_start": 8.88140056,
            "bin_end": 16.19888258,
            "count": 1
           },
           {
            "bin_start": 16.19888258,
            "bin_end": 23.5163646,
            "count": 1
           },
           {
            "bin_start": 23.5163646,
            "bin_end": 30.83384662,
            "count": 0
           },
           {
            "bin_start": 30.83384662,
            "bin_end": 38.15132864,
            "count": 0
           },
           {
            "bin_start": 38.15132864,
            "bin_end": 45.46881066,
            "count": 0
           },
           {
            "bin_start": 45.46881066,
            "bin_end": 52.78629268,
            "count": 0
           },
           {
            "bin_start": 52.78629268,
            "bin_end": 60.1037747,
            "count": 0
           },
           {
            "bin_start": 60.1037747,
            "bin_end": 67.42125672,
            "count": 1
           },
           {
            "bin_start": 67.42125672,
            "bin_end": 74.73873874,
            "count": 1
           }
          ]
         }
        },
        {
         "name": "Store Count Growth",
         "dtype": "float64",
         "stats": {
          "unique_count": 5,
          "nan_count": 0,
          "min": "-0.05951506245",
          "max": "0.08450704225",
          "histogram": [
           {
            "bin_start": -0.05951506245,
            "bin_end": -0.04511285198000001,
            "count": 1
           },
           {
            "bin_start": -0.04511285198000001,
            "bin_end": -0.030710641510000004,
            "count": 0
           },
           {
            "bin_start": -0.030710641510000004,
            "bin_end": -0.01630843104,
            "count": 0
           },
           {
            "bin_start": -0.01630843104,
            "bin_end": -0.0019062205700000057,
            "count": 0
           },
           {
            "bin_start": -0.0019062205700000057,
            "bin_end": 0.01249598989999999,
            "count": 1
           },
           {
            "bin_start": 0.01249598989999999,
            "bin_end": 0.02689820037,
            "count": 1
           },
           {
            "bin_start": 0.02689820037,
            "bin_end": 0.041300410839999996,
            "count": 0
           },
           {
            "bin_start": 0.041300410839999996,
            "bin_end": 0.05570262130999999,
            "count": 0
           },
           {
            "bin_start": 0.05570262130999999,
            "bin_end": 0.07010483178,
            "count": 0
           },
           {
            "bin_start": 0.07010483178,
            "bin_end": 0.08450704225,
            "count": 2
           }
          ]
         }
        },
        {
         "name": "Category",
         "dtype": "object",
         "stats": {
          "unique_count": 4,
          "nan_count": 0,
          "categories": [
           {
            "name": "Grocery",
            "count": 2
           },
           {
            "name": "Dollar Stores",
            "count": 1
           },
           {
            "name": "2 others",
            "count": 2
           }
          ]
         }
        },
        {
         "name": "type_phy_onl",
         "dtype": "object",
         "stats": {
          "unique_count": 1,
          "nan_count": 0,
          "categories": [
           {
            "name": "Physical",
            "count": 5
           }
          ]
         }
        },
        {
         "name": "_deepnote_index_column",
         "dtype": "int64"
        }
       ],
       "rows": [
        {
         "Company": "Dollar Tree",
         "Sales": 21464,
         "Stores": 14250,
         "Sales/Avg. Store": 1.56391854,
         "Store Count Growth": 0.07962724449,
         "Category": "Dollar Stores",
         "type_phy_onl": "Physical",
         "_deepnote_index_column": 20
        },
        {
         "Company": "HEB",
         "Sales": 21384,
         "Stores": 323,
         "Sales/Avg. Store": 66.825,
         "Store Count Growth": 0.01892744479,
         "Category": "Grocery",
         "type_phy_onl": "Physical",
         "_deepnote_index_column": 21
        },
        {
         "Company": "Kohl's",
         "Sales": 19060,
         "Stores": 1169,
         "Sales/Avg. Store": 16.35349635,
         "Store Count Growth": 0.006024096386,
         "Category": "Department Stores",
         "type_phy_onl": "Physical",
         "_deepnote_index_column": 22
        },
        {
         "Company": "Delhaize",
         "Sales": 18201,
         "Stores": 1280,
         "Sales/Avg. Store": 13.78341537,
         "Store Count Growth": -0.05951506245,
         "Category": "Grocery",
         "type_phy_onl": "Physical",
         "_deepnote_index_column": 23
        },
        {
         "Company": "Meijer",
         "Sales": 16592,
         "Stores": 231,
         "Sales/Avg. Store": 74.73873874,
         "Store Count Growth": 0.08450704225,
         "Category": "Supercenters",
         "type_phy_onl": "Physical",
         "_deepnote_index_column": 24
        }
       ]
      },
      "text/plain": "        Company  Sales   Stores  Sales/Avg. Store  Store Count Growth  \\\n20  Dollar Tree  21464  14250.0          1.563919            0.079627   \n21          HEB  21384    323.0         66.825000            0.018927   \n22       Kohl's  19060   1169.0         16.353496            0.006024   \n23     Delhaize  18201   1280.0         13.783415           -0.059515   \n24       Meijer  16592    231.0         74.738739            0.084507   \n\n             Category type_phy_onl  \n20      Dollar Stores     Physical  \n21            Grocery     Physical  \n22  Department Stores     Physical  \n23            Grocery     Physical  \n24       Supercenters     Physical  ",
      "text/html": "<div>\n<style scoped>\n    .dataframe tbody tr th:only-of-type {\n        vertical-align: middle;\n    }\n\n    .dataframe tbody tr th {\n        vertical-align: top;\n    }\n\n    .dataframe thead th {\n        text-align: right;\n    }\n</style>\n<table border=\"1\" class=\"dataframe\">\n  <thead>\n    <tr style=\"text-align: right;\">\n      <th></th>\n      <th>Company</th>\n      <th>Sales</th>\n      <th>Stores</th>\n      <th>Sales/Avg. Store</th>\n      <th>Store Count Growth</th>\n      <th>Category</th>\n      <th>type_phy_onl</th>\n    </tr>\n  </thead>\n  <tbody>\n    <tr>\n      <th>20</th>\n      <td>Dollar Tree</td>\n      <td>21464</td>\n      <td>14250.0</td>\n      <td>1.563919</td>\n      <td>0.079627</td>\n      <td>Dollar Stores</td>\n      <td>Physical</td>\n    </tr>\n    <tr>\n      <th>21</th>\n      <td>HEB</td>\n      <td>21384</td>\n      <td>323.0</td>\n      <td>66.825000</td>\n      <td>0.018927</td>\n      <td>Grocery</td>\n      <td>Physical</td>\n    </tr>\n    <tr>\n      <th>22</th>\n      <td>Kohl's</td>\n      <td>19060</td>\n      <td>1169.0</td>\n      <td>16.353496</td>\n      <td>0.006024</td>\n      <td>Department Stores</td>\n      <td>Physical</td>\n    </tr>\n    <tr>\n      <th>23</th>\n      <td>Delhaize</td>\n      <td>18201</td>\n      <td>1280.0</td>\n      <td>13.783415</td>\n      <td>-0.059515</td>\n      <td>Grocery</td>\n      <td>Physical</td>\n    </tr>\n    <tr>\n      <th>24</th>\n      <td>Meijer</td>\n      <td>16592</td>\n      <td>231.0</td>\n      <td>74.738739</td>\n      <td>0.084507</td>\n      <td>Supercenters</td>\n      <td>Physical</td>\n    </tr>\n  </tbody>\n</table>\n</div>"
     },
     "metadata": {}
    }
   ]
  },
  {
   "cell_type": "markdown",
   "source": "Volvemos a usar el código de la pregunta 5.",
   "metadata": {
    "cell_id": "725ea4fe-0d28-4c4b-8671-789d5c1d959c",
    "tags": [],
    "is_collapsed": false,
    "deepnote_cell_type": "text-cell-p"
   }
  },
  {
   "cell_type": "code",
   "metadata": {
    "cell_id": "a2cfc668-420f-43d0-b915-c065206b2391",
    "tags": [],
    "deepnote_to_be_reexecuted": false,
    "source_hash": "f11aecfe",
    "execution_start": 1645578004934,
    "execution_millis": 1,
    "deepnote_cell_type": "code"
   },
   "source": "less_sales = df_sorted['Company'][-5:]\nlist_less_sales = list(less_sales)\nprint('Las cinco compañias con menos ventas son: ')\nfor i in range(len(list_less_sales)):\n    print('- ' + list_less_sales[i])",
   "execution_count": null,
   "outputs": [
    {
     "name": "stdout",
     "text": "Las cinco compañias con menos ventas son: \n- Dollar Tree\n- HEB\n- Kohl's\n- Delhaize\n- Meijer\n",
     "output_type": "stream"
    }
   ]
  },
  {
   "cell_type": "markdown",
   "source": "Y lo adaptamos para obtener las empresas que mas sucursales están abriendo (Store Count Growth)",
   "metadata": {
    "cell_id": "0650c458-3f0c-4b0a-9684-f3719acce151",
    "tags": [],
    "is_collapsed": false,
    "deepnote_cell_type": "text-cell-p"
   }
  },
  {
   "cell_type": "code",
   "metadata": {
    "cell_id": "fa6bcbce-b288-4761-abfc-33734e9fda3d",
    "tags": [],
    "deepnote_to_be_reexecuted": false,
    "source_hash": "265af732",
    "execution_start": 1645577288925,
    "execution_millis": 172,
    "deepnote_cell_type": "code"
   },
   "source": "df_growth_sort = df.sort_values('Store Count Growth', ascending=0)\ndf_growth_sort.head(5)",
   "execution_count": null,
   "outputs": [
    {
     "output_type": "execute_result",
     "execution_count": 145,
     "data": {
      "application/vnd.deepnote.dataframe.v3+json": {
       "column_count": 7,
       "row_count": 5,
       "columns": [
        {
         "name": "Company",
         "dtype": "object",
         "stats": {
          "unique_count": 5,
          "nan_count": 0,
          "categories": [
           {
            "name": "CVS incl. Target",
            "count": 1
           },
           {
            "name": "Dollar General",
            "count": 1
           },
           {
            "name": "3 others",
            "count": 3
           }
          ]
         }
        },
        {
         "name": "Sales",
         "dtype": "int64",
         "stats": {
          "unique_count": 5,
          "nan_count": 0,
          "min": "16592",
          "max": "77792",
          "histogram": [
           {
            "bin_start": 16592,
            "bin_end": 22712,
            "count": 2
           },
           {
            "bin_start": 22712,
            "bin_end": 28832,
            "count": 2
           },
           {
            "bin_start": 28832,
            "bin_end": 34952,
            "count": 0
           },
           {
            "bin_start": 34952,
            "bin_end": 41072,
            "count": 0
           },
           {
            "bin_start": 41072,
            "bin_end": 47192,
            "count": 0
           },
           {
            "bin_start": 47192,
            "bin_end": 53312,
            "count": 0
           },
           {
            "bin_start": 53312,
            "bin_end": 59432,
            "count": 0
           },
           {
            "bin_start": 59432,
            "bin_end": 65552,
            "count": 0
           },
           {
            "bin_start": 65552,
            "bin_end": 71672,
            "count": 0
           },
           {
            "bin_start": 71672,
            "bin_end": 77792,
            "count": 1
           }
          ]
         }
        },
        {
         "name": "Stores",
         "dtype": "float64",
         "stats": {
          "unique_count": 5,
          "nan_count": 0,
          "min": "231.0",
          "max": "13350.0",
          "histogram": [
           {
            "bin_start": 231,
            "bin_end": 1542.9,
            "count": 2
           },
           {
            "bin_start": 1542.9,
            "bin_end": 2854.8,
            "count": 1
           },
           {
            "bin_start": 2854.8,
            "bin_end": 4166.700000000001,
            "count": 0
           },
           {
            "bin_start": 4166.700000000001,
            "bin_end": 5478.6,
            "count": 0
           },
           {
            "bin_start": 5478.6,
            "bin_end": 6790.5,
            "count": 0
           },
           {
            "bin_start": 6790.5,
            "bin_end": 8102.400000000001,
            "count": 0
           },
           {
            "bin_start": 8102.400000000001,
            "bin_end": 9414.300000000001,
            "count": 0
           },
           {
            "bin_start": 9414.300000000001,
            "bin_end": 10726.2,
            "count": 1
           },
           {
            "bin_start": 10726.2,
            "bin_end": 12038.1,
            "count": 0
           },
           {
            "bin_start": 12038.1,
            "bin_end": 13350,
            "count": 1
           }
          ]
         }
        },
        {
         "name": "Sales/Avg. Store",
         "dtype": "float64",
         "stats": {
          "unique_count": 5,
          "nan_count": 0,
          "min": "1.768884999",
          "max": "74.73873874",
          "histogram": [
           {
            "bin_start": 1.768884999,
            "bin_end": 9.065870373100001,
            "count": 2
           },
           {
            "bin_start": 9.065870373100001,
            "bin_end": 16.3628557472,
            "count": 1
           },
           {
            "bin_start": 16.3628557472,
            "bin_end": 23.659841121300005,
            "count": 0
           },
           {
            "bin_start": 23.659841121300005,
            "bin_end": 30.956826495400005,
            "count": 1
           },
           {
            "bin_start": 30.956826495400005,
            "bin_end": 38.253811869500005,
            "count": 0
           },
           {
            "bin_start": 38.253811869500005,
            "bin_end": 45.55079724360001,
            "count": 0
           },
           {
            "bin_start": 45.55079724360001,
            "bin_end": 52.847782617700005,
            "count": 0
           },
           {
            "bin_start": 52.847782617700005,
            "bin_end": 60.14476799180001,
            "count": 0
           },
           {
            "bin_start": 60.14476799180001,
            "bin_end": 67.4417533659,
            "count": 0
           },
           {
            "bin_start": 67.4417533659,
            "bin_end": 74.73873874,
            "count": 1
           }
          ]
         }
        },
        {
         "name": "Store Count Growth",
         "dtype": "float64",
         "stats": {
          "unique_count": 5,
          "nan_count": 0,
          "min": "0.08282582217",
          "max": "0.2556621881",
          "histogram": [
           {
            "bin_start": 0.08282582217,
            "bin_end": 0.100109458763,
            "count": 2
           },
           {
            "bin_start": 0.100109458763,
            "bin_end": 0.117393095356,
            "count": 1
           },
           {
            "bin_start": 0.117393095356,
            "bin_end": 0.13467673194899998,
            "count": 1
           },
           {
            "bin_start": 0.13467673194899998,
            "bin_end": 0.151960368542,
            "count": 0
           },
           {
            "bin_start": 0.151960368542,
            "bin_end": 0.169244005135,
            "count": 0
           },
           {
            "bin_start": 0.169244005135,
            "bin_end": 0.18652764172800002,
            "count": 0
           },
           {
            "bin_start": 0.18652764172800002,
            "bin_end": 0.203811278321,
            "count": 0
           },
           {
            "bin_start": 0.203811278321,
            "bin_end": 0.22109491491400002,
            "count": 0
           },
           {
            "bin_start": 0.22109491491400002,
            "bin_end": 0.238378551507,
            "count": 0
           },
           {
            "bin_start": 0.238378551507,
            "bin_end": 0.2556621881,
            "count": 1
           }
          ]
         }
        },
        {
         "name": "Category",
         "dtype": "object",
         "stats": {
          "unique_count": 5,
          "nan_count": 0,
          "categories": [
           {
            "name": "Drug Stores",
            "count": 1
           },
           {
            "name": "Dollar Stores",
            "count": 1
           },
           {
            "name": "3 others",
            "count": 3
           }
          ]
         }
        },
        {
         "name": "type_phy_onl",
         "dtype": "object",
         "stats": {
          "unique_count": 1,
          "nan_count": 0,
          "categories": [
           {
            "name": "Physical",
            "count": 5
           }
          ]
         }
        },
        {
         "name": "_deepnote_index_column",
         "dtype": "int64"
        }
       ],
       "rows": [
        {
         "Company": "CVS incl. Target",
         "Sales": 77792,
         "Stores": 9813,
         "Sales/Avg. Store": 8.825958702,
         "Store Count Growth": 0.2556621881,
         "Category": "Drug Stores",
         "type_phy_onl": "Physical",
         "_deepnote_index_column": 5
        },
        {
         "Company": "Dollar General",
         "Sales": 22234,
         "Stores": 13350,
         "Sales/Avg. Store": 1.768884999,
         "Store Count Growth": 0.1324115701,
         "Category": "Dollar Stores",
         "type_phy_onl": "Physical",
         "_deepnote_index_column": 19
        },
        {
         "Company": "Aldi",
         "Sales": 24402,
         "Stores": 2021,
         "Sales/Avg. Store": 12.71599792,
         "Store Count Growth": 0.1122729774,
         "Category": "Grocery",
         "type_phy_onl": "Physical",
         "_deepnote_index_column": 18
        },
        {
         "Company": "Meijer",
         "Sales": 16592,
         "Stores": 231,
         "Sales/Avg. Store": 74.73873874,
         "Store Count Growth": 0.08450704225,
         "Category": "Supercenters",
         "type_phy_onl": "Physical",
         "_deepnote_index_column": 24
        },
        {
         "Company": "Macy's",
         "Sales": 26028,
         "Stores": 889,
         "Sales/Avg. Store": 30.44210526,
         "Store Count Growth": 0.08282582217,
         "Category": "Department Stores",
         "type_phy_onl": "Physical",
         "_deepnote_index_column": 16
        }
       ]
      },
      "text/plain": "             Company  Sales   Stores  Sales/Avg. Store  Store Count Growth  \\\n5   CVS incl. Target  77792   9813.0          8.825959            0.255662   \n19    Dollar General  22234  13350.0          1.768885            0.132412   \n18              Aldi  24402   2021.0         12.715998            0.112273   \n24            Meijer  16592    231.0         74.738739            0.084507   \n16            Macy's  26028    889.0         30.442105            0.082826   \n\n             Category type_phy_onl  \n5         Drug Stores     Physical  \n19      Dollar Stores     Physical  \n18            Grocery     Physical  \n24       Supercenters     Physical  \n16  Department Stores     Physical  ",
      "text/html": "<div>\n<style scoped>\n    .dataframe tbody tr th:only-of-type {\n        vertical-align: middle;\n    }\n\n    .dataframe tbody tr th {\n        vertical-align: top;\n    }\n\n    .dataframe thead th {\n        text-align: right;\n    }\n</style>\n<table border=\"1\" class=\"dataframe\">\n  <thead>\n    <tr style=\"text-align: right;\">\n      <th></th>\n      <th>Company</th>\n      <th>Sales</th>\n      <th>Stores</th>\n      <th>Sales/Avg. Store</th>\n      <th>Store Count Growth</th>\n      <th>Category</th>\n      <th>type_phy_onl</th>\n    </tr>\n  </thead>\n  <tbody>\n    <tr>\n      <th>5</th>\n      <td>CVS incl. Target</td>\n      <td>77792</td>\n      <td>9813.0</td>\n      <td>8.825959</td>\n      <td>0.255662</td>\n      <td>Drug Stores</td>\n      <td>Physical</td>\n    </tr>\n    <tr>\n      <th>19</th>\n      <td>Dollar General</td>\n      <td>22234</td>\n      <td>13350.0</td>\n      <td>1.768885</td>\n      <td>0.132412</td>\n      <td>Dollar Stores</td>\n      <td>Physical</td>\n    </tr>\n    <tr>\n      <th>18</th>\n      <td>Aldi</td>\n      <td>24402</td>\n      <td>2021.0</td>\n      <td>12.715998</td>\n      <td>0.112273</td>\n      <td>Grocery</td>\n      <td>Physical</td>\n    </tr>\n    <tr>\n      <th>24</th>\n      <td>Meijer</td>\n      <td>16592</td>\n      <td>231.0</td>\n      <td>74.738739</td>\n      <td>0.084507</td>\n      <td>Supercenters</td>\n      <td>Physical</td>\n    </tr>\n    <tr>\n      <th>16</th>\n      <td>Macy's</td>\n      <td>26028</td>\n      <td>889.0</td>\n      <td>30.442105</td>\n      <td>0.082826</td>\n      <td>Department Stores</td>\n      <td>Physical</td>\n    </tr>\n  </tbody>\n</table>\n</div>"
     },
     "metadata": {}
    }
   ]
  },
  {
   "cell_type": "code",
   "metadata": {
    "cell_id": "1f8d8827-8c7f-4cb5-b55d-0d5cab59713c",
    "tags": [],
    "deepnote_to_be_reexecuted": false,
    "source_hash": "e97f7777",
    "execution_start": 1645577218956,
    "execution_millis": 2,
    "deepnote_cell_type": "code"
   },
   "source": "more_growth = df_growth_sort['Company'][:5]\nlist_more_growth = list(more_growth)\nprint('Las cinco compañias con mayor incremento de sucursales son: ')\nfor i in range(len(list_more_growth)):\n    print('- ' + list_more_growth[i])",
   "execution_count": null,
   "outputs": [
    {
     "name": "stdout",
     "text": "Las cinco compañias con mayor incremento de sucursales son: \n- CVS incl. Target\n- Dollar General\n- Aldi\n- Meijer\n- Macy's\n",
     "output_type": "stream"
    }
   ]
  },
  {
   "cell_type": "markdown",
   "source": "Comparamos las dos listas resultantes para obtener la respuesta:",
   "metadata": {
    "cell_id": "0fec26bb-1e3c-4693-bac7-624a20a9446d",
    "tags": [],
    "is_collapsed": false,
    "deepnote_cell_type": "text-cell-p"
   }
  },
  {
   "cell_type": "code",
   "metadata": {
    "cell_id": "84ce51d6-64e0-4c30-9b3c-bd7a8956fb68",
    "tags": [],
    "deepnote_to_be_reexecuted": false,
    "source_hash": "d78e5620",
    "execution_start": 1645577462388,
    "execution_millis": 5,
    "deepnote_cell_type": "code"
   },
   "source": "print('Las compañias que estan entre las 5 con menos* ingresos y las 5 con mayor incremento de sucursales fisicas son:')\nfor i in range(len(list_more_growth)):\n    for j in range(len(list_more_growth)):\n        if list_more_growth[i] == list_less_sales[j]:\n            print('- ' + list_less_sales[j])",
   "execution_count": null,
   "outputs": [
    {
     "name": "stdout",
     "text": "Las compañias que estan entre las 5 con menos* ingresos y las 5 con mayor incremento de sucursales fisicas son:\n- Meijer\n",
     "output_type": "stream"
    }
   ]
  },
  {
   "cell_type": "markdown",
   "source": "#### Resultados de la pregunta 10:\n\n- La compañia **Meijer** se las arregla para estar entre las 5 empresas con **menos** ingresos y las 5 empresas con **mayor** incremento de sucursales fisicas lo que representa un comportamiento alejado de lo que se pordria esperar.",
   "metadata": {
    "cell_id": "824aa2a0-fabb-48b4-a472-824a5dc0aad9",
    "tags": [],
    "deepnote_cell_type": "markdown"
   }
  },
  {
   "cell_type": "markdown",
   "source": "## 11. ¿Qué categoria obtiene mas ganancias por tienda en promedio?",
   "metadata": {
    "cell_id": "83e0e566-969d-4872-b32d-915ac945a370",
    "tags": [],
    "deepnote_cell_type": "markdown"
   }
  },
  {
   "cell_type": "markdown",
   "source": "Volvemos a construir la columna de ventas por tienda (salestores):",
   "metadata": {
    "cell_id": "b8afdd33-7b2d-4396-ba96-19d88f44c615",
    "tags": [],
    "is_collapsed": false,
    "deepnote_cell_type": "text-cell-p"
   }
  },
  {
   "cell_type": "code",
   "metadata": {
    "cell_id": "04a6786e-fd39-4b41-b85c-0ecae003e4db",
    "tags": [],
    "deepnote_to_be_reexecuted": false,
    "source_hash": "718a8a38",
    "execution_start": 1645578608086,
    "execution_millis": 19,
    "deepnote_cell_type": "code"
   },
   "source": "df['salestores'] = df['Sales']/df['Stores']\ndf.head(5)",
   "execution_count": null,
   "outputs": [
    {
     "output_type": "execute_result",
     "execution_count": 148,
     "data": {
      "application/vnd.deepnote.dataframe.v3+json": {
       "column_count": 8,
       "row_count": 5,
       "columns": [
        {
         "name": "Company",
         "dtype": "object",
         "stats": {
          "unique_count": 5,
          "nan_count": 0,
          "categories": [
           {
            "name": "Walmart US",
            "count": 1
           },
           {
            "name": "Kroger",
            "count": 1
           },
           {
            "name": "3 others",
            "count": 3
           }
          ]
         }
        },
        {
         "name": "Sales",
         "dtype": "int64",
         "stats": {
          "unique_count": 5,
          "nan_count": 0,
          "min": "78924",
          "max": "658119",
          "histogram": [
           {
            "bin_start": 78924,
            "bin_end": 136843.5,
            "count": 4
           },
           {
            "bin_start": 136843.5,
            "bin_end": 194763,
            "count": 0
           },
           {
            "bin_start": 194763,
            "bin_end": 252682.5,
            "count": 0
           },
           {
            "bin_start": 252682.5,
            "bin_end": 310602,
            "count": 0
           },
           {
            "bin_start": 310602,
            "bin_end": 368521.5,
            "count": 0
           },
           {
            "bin_start": 368521.5,
            "bin_end": 426441,
            "count": 0
           },
           {
            "bin_start": 426441,
            "bin_end": 484360.5,
            "count": 0
           },
           {
            "bin_start": 484360.5,
            "bin_end": 542280,
            "count": 0
           },
           {
            "bin_start": 542280,
            "bin_end": 600199.5,
            "count": 0
           },
           {
            "bin_start": 600199.5,
            "bin_end": 658119,
            "count": 1
           }
          ]
         }
        },
        {
         "name": "Stores",
         "dtype": "float64",
         "stats": {
          "unique_count": 5,
          "nan_count": 0,
          "min": "495.0",
          "max": "8002.0",
          "histogram": [
           {
            "bin_start": 495,
            "bin_end": 1245.7,
            "count": 1
           },
           {
            "bin_start": 1245.7,
            "bin_end": 1996.4,
            "count": 1
           },
           {
            "bin_start": 1996.4,
            "bin_end": 2747.1000000000004,
            "count": 0
           },
           {
            "bin_start": 2747.1000000000004,
            "bin_end": 3497.8,
            "count": 0
           },
           {
            "bin_start": 3497.8,
            "bin_end": 4248.5,
            "count": 1
           },
           {
            "bin_start": 4248.5,
            "bin_end": 4999.200000000001,
            "count": 1
           },
           {
            "bin_start": 4999.200000000001,
            "bin_end": 5749.900000000001,
            "count": 0
           },
           {
            "bin_start": 5749.900000000001,
            "bin_end": 6500.6,
            "count": 0
           },
           {
            "bin_start": 6500.6,
            "bin_end": 7251.3,
            "count": 0
           },
           {
            "bin_start": 7251.3,
            "bin_end": 8002,
            "count": 1
           }
          ]
         }
        },
        {
         "name": "Sales/Avg. Store",
         "dtype": "float64",
         "stats": {
          "unique_count": 5,
          "nan_count": 0,
          "min": "9.81092672",
          "max": "187.7956204",
          "histogram": [
           {
            "bin_start": 9.81092672,
            "bin_end": 27.609396087999997,
            "count": 1
           },
           {
            "bin_start": 27.609396087999997,
            "bin_end": 45.407865455999996,
            "count": 2
           },
           {
            "bin_start": 45.407865455999996,
            "bin_end": 63.206334823999995,
            "count": 0
           },
           {
            "bin_start": 63.206334823999995,
            "bin_end": 81.004804192,
            "count": 1
           },
           {
            "bin_start": 81.004804192,
            "bin_end": 98.80327356,
            "count": 0
           },
           {
            "bin_start": 98.80327356,
            "bin_end": 116.601742928,
            "count": 0
           },
           {
            "bin_start": 116.601742928,
            "bin_end": 134.400212296,
            "count": 0
           },
           {
            "bin_start": 134.400212296,
            "bin_end": 152.198681664,
            "count": 0
           },
           {
            "bin_start": 152.198681664,
            "bin_end": 169.99715103199998,
            "count": 0
           },
           {
            "bin_start": 169.99715103199998,
            "bin_end": 187.7956204,
            "count": 1
           }
          ]
         }
        },
        {
         "name": "Store Count Growth",
         "dtype": "float64",
         "stats": {
          "unique_count": 5,
          "nan_count": 0,
          "min": "-0.01051069618",
          "max": "0.06681034483",
          "histogram": [
           {
            "bin_start": -0.01051069618,
            "bin_end": -0.0027785920789999983,
            "count": 1
           },
           {
            "bin_start": -0.0027785920789999983,
            "bin_end": 0.004953512022000003,
            "count": 1
           },
           {
            "bin_start": 0.004953512022000003,
            "bin_end": 0.012685616123000005,
            "count": 0
           },
           {
            "bin_start": 0.012685616123000005,
            "bin_end": 0.020417720224000006,
            "count": 1
           },
           {
            "bin_start": 0.020417720224000006,
            "bin_end": 0.028149824325000003,
            "count": 0
           },
           {
            "bin_start": 0.028149824325000003,
            "bin_end": 0.03588192842600001,
            "count": 0
           },
           {
            "bin_start": 0.03588192842600001,
            "bin_end": 0.043614032527,
            "count": 0
           },
           {
            "bin_start": 0.043614032527,
            "bin_end": 0.05134613662800001,
            "count": 0
           },
           {
            "bin_start": 0.05134613662800001,
            "bin_end": 0.059078240729,
            "count": 1
           },
           {
            "bin_start": 0.059078240729,
            "bin_end": 0.06681034483,
            "count": 1
           }
          ]
         }
        },
        {
         "name": "Category",
         "dtype": "object",
         "stats": {
          "unique_count": 5,
          "nan_count": 0,
          "categories": [
           {
            "name": "Supercenters",
            "count": 1
           },
           {
            "name": "Grocery",
            "count": 1
           },
           {
            "name": "3 others",
            "count": 3
           }
          ]
         }
        },
        {
         "name": "type_phy_onl",
         "dtype": "object",
         "stats": {
          "unique_count": 1,
          "nan_count": 0,
          "categories": [
           {
            "name": "Physical",
            "count": 5
           }
          ]
         }
        },
        {
         "name": "salestores",
         "dtype": "float64",
         "stats": {
          "unique_count": 5,
          "nan_count": 0,
          "min": "9.86303424143964",
          "max": "181.9151515151515",
          "histogram": [
           {
            "bin_start": 9.86303424143964,
            "bin_end": 27.068245968810828,
            "count": 1
           },
           {
            "bin_start": 27.068245968810828,
            "bin_end": 44.273457696182014,
            "count": 2
           },
           {
            "bin_start": 44.273457696182014,
            "bin_end": 61.4786694235532,
            "count": 0
           },
           {
            "bin_start": 61.4786694235532,
            "bin_end": 78.68388115092438,
            "count": 0
           },
           {
            "bin_start": 78.68388115092438,
            "bin_end": 95.88909287829557,
            "count": 0
           },
           {
            "bin_start": 95.88909287829557,
            "bin_end": 113.09430460566675,
            "count": 0
           },
           {
            "bin_start": 113.09430460566675,
            "bin_end": 130.29951633303793,
            "count": 0
           },
           {
            "bin_start": 130.29951633303793,
            "bin_end": 147.50472806040912,
            "count": 1
           },
           {
            "bin_start": 147.50472806040912,
            "bin_end": 164.7099397877803,
            "count": 0
           },
           {
            "bin_start": 164.7099397877803,
            "bin_end": 181.9151515151515,
            "count": 1
           }
          ]
         }
        },
        {
         "name": "_deepnote_index_column",
         "dtype": "int64"
        }
       ],
       "rows": [
        {
         "Company": "Walmart US",
         "Sales": 658119,
         "Stores": 4574,
         "Sales/Avg. Store": 65.64972497,
         "Store Count Growth": 0.01284322409,
         "Category": "Supercenters",
         "type_phy_onl": "Physical",
         "salestores": 143.88259728902491,
         "_deepnote_index_column": 0
        },
        {
         "Company": "Kroger",
         "Sales": 115037,
         "Stores": 3931,
         "Sales/Avg. Store": 30.03184963,
         "Store Count Growth": 0.05388739946,
         "Category": "Grocery",
         "type_phy_onl": "Physical",
         "salestores": 29.26405494785042,
         "_deepnote_index_column": 1
        },
        {
         "Company": "Costco",
         "Sales": 90048,
         "Stores": 495,
         "Sales/Avg. Store": 187.7956204,
         "Store Count Growth": 0.06681034483,
         "Category": "Warehouse Club",
         "type_phy_onl": "Physical",
         "salestores": 181.9151515151515,
         "_deepnote_index_column": 2
        },
        {
         "Company": "Home Depot",
         "Sales": 83976,
         "Stores": 1965,
         "Sales/Avg. Store": 42.73587786,
         "Store Count Growth": 0,
         "Category": "Home Improvement",
         "type_phy_onl": "Physical",
         "salestores": 42.73587786259542,
         "_deepnote_index_column": 3
        },
        {
         "Company": "Walgreen Boots",
         "Sales": 78924,
         "Stores": 8002,
         "Sales/Avg. Store": 9.81092672,
         "Store Count Growth": -0.01051069618,
         "Category": "Drug Stores",
         "type_phy_onl": "Physical",
         "salestores": 9.86303424143964,
         "_deepnote_index_column": 4
        }
       ]
      },
      "text/plain": "          Company   Sales  Stores  Sales/Avg. Store  Store Count Growth  \\\n0      Walmart US  658119  4574.0         65.649725            0.012843   \n1          Kroger  115037  3931.0         30.031850            0.053887   \n2          Costco   90048   495.0        187.795620            0.066810   \n3      Home Depot   83976  1965.0         42.735878            0.000000   \n4  Walgreen Boots   78924  8002.0          9.810927           -0.010511   \n\n           Category type_phy_onl  salestores  \n0      Supercenters     Physical  143.882597  \n1           Grocery     Physical   29.264055  \n2    Warehouse Club     Physical  181.915152  \n3  Home Improvement     Physical   42.735878  \n4       Drug Stores     Physical    9.863034  ",
      "text/html": "<div>\n<style scoped>\n    .dataframe tbody tr th:only-of-type {\n        vertical-align: middle;\n    }\n\n    .dataframe tbody tr th {\n        vertical-align: top;\n    }\n\n    .dataframe thead th {\n        text-align: right;\n    }\n</style>\n<table border=\"1\" class=\"dataframe\">\n  <thead>\n    <tr style=\"text-align: right;\">\n      <th></th>\n      <th>Company</th>\n      <th>Sales</th>\n      <th>Stores</th>\n      <th>Sales/Avg. Store</th>\n      <th>Store Count Growth</th>\n      <th>Category</th>\n      <th>type_phy_onl</th>\n      <th>salestores</th>\n    </tr>\n  </thead>\n  <tbody>\n    <tr>\n      <th>0</th>\n      <td>Walmart US</td>\n      <td>658119</td>\n      <td>4574.0</td>\n      <td>65.649725</td>\n      <td>0.012843</td>\n      <td>Supercenters</td>\n      <td>Physical</td>\n      <td>143.882597</td>\n    </tr>\n    <tr>\n      <th>1</th>\n      <td>Kroger</td>\n      <td>115037</td>\n      <td>3931.0</td>\n      <td>30.031850</td>\n      <td>0.053887</td>\n      <td>Grocery</td>\n      <td>Physical</td>\n      <td>29.264055</td>\n    </tr>\n    <tr>\n      <th>2</th>\n      <td>Costco</td>\n      <td>90048</td>\n      <td>495.0</td>\n      <td>187.795620</td>\n      <td>0.066810</td>\n      <td>Warehouse Club</td>\n      <td>Physical</td>\n      <td>181.915152</td>\n    </tr>\n    <tr>\n      <th>3</th>\n      <td>Home Depot</td>\n      <td>83976</td>\n      <td>1965.0</td>\n      <td>42.735878</td>\n      <td>0.000000</td>\n      <td>Home Improvement</td>\n      <td>Physical</td>\n      <td>42.735878</td>\n    </tr>\n    <tr>\n      <th>4</th>\n      <td>Walgreen Boots</td>\n      <td>78924</td>\n      <td>8002.0</td>\n      <td>9.810927</td>\n      <td>-0.010511</td>\n      <td>Drug Stores</td>\n      <td>Physical</td>\n      <td>9.863034</td>\n    </tr>\n  </tbody>\n</table>\n</div>"
     },
     "metadata": {}
    }
   ]
  },
  {
   "cell_type": "markdown",
   "source": "Creamos un dataset resumido con los datos de interés para elaborar una grafica comparativa",
   "metadata": {
    "cell_id": "cdb1df97-6be7-4d60-bfc3-a0ebbdfb0de9",
    "tags": [],
    "is_collapsed": false,
    "deepnote_cell_type": "text-cell-p"
   }
  },
  {
   "cell_type": "code",
   "metadata": {
    "cell_id": "2cf0842e-1e82-497a-9a9d-bac96b8095f4",
    "tags": [],
    "deepnote_to_be_reexecuted": false,
    "source_hash": "6afe2585",
    "execution_start": 1645578871250,
    "execution_millis": 311,
    "deepnote_cell_type": "code"
   },
   "source": "salestores_df = df.groupby('Category')['salestores'].sum()\ndict(salestores_df)\narr2_dict = {\n    'Category': [],\n    'salestores': []\n}\nfor i,j in dict(salestores_df).items():\n    arr2_dict['Category'].append(i)\n    arr2_dict['salestores'].append(j)\n\npd_df_salestores = pd.DataFrame(arr2_dict)\n\nsns.barplot(data=pd_df_salestores, x='salestores', y='Category')",
   "execution_count": null,
   "outputs": [
    {
     "output_type": "execute_result",
     "execution_count": 149,
     "data": {
      "text/plain": "<AxesSubplot:xlabel='salestores', ylabel='Category'>"
     },
     "metadata": {}
    },
    {
     "data": {
      "text/plain": "<Figure size 432x288 with 1 Axes>",
      "image/png": "[encoded data removed]"
     },
     "metadata": {
      "needs_background": "light",
      "image/png": {
       "width": 474,
       "height": 262
      }
     },
     "output_type": "display_data"
    }
   ]
  },
  {
   "cell_type": "code",
   "metadata": {
    "cell_id": "7ee141b6-cde1-4a84-9837-45c68edcd3f4",
    "tags": [],
    "deepnote_to_be_reexecuted": false,
    "source_hash": "d99ab3e",
    "execution_start": 1645579593059,
    "execution_millis": 6,
    "deepnote_cell_type": "code"
   },
   "source": "n_warehouses = round(dict(salestores_df)['Warehouse Club'] + dict(salestores_df)['Warehouse Clubs'], 2)\nn_supercenters = round(dict(salestores_df)['Supercenters'], 2)\n\nprint(f'Los supercenters suman ${n_supercenters} en ventas por tienda, sin embargo, si asumimos ' + \n       'que los Warehouse Club y Warehouse Clubs son una sola categoria,' +\n      f' estos sumarian ${n_warehouses} en ventas por tienda.')",
   "execution_count": null,
   "outputs": [
    {
     "name": "stdout",
     "text": "Los supercenters suman $255.89 en ventas por tienda, sin embargo, si asumimos que los Warehouse Club y Warehouse Clubs son una sola categoria, estos sumarian $268.68 en ventas por tienda.\n",
     "output_type": "stream"
    }
   ]
  },
  {
   "cell_type": "markdown",
   "source": "#### Conclusiones de la pregunta 11:\n- No solo son la categoria que genera mas ganacias, los supercenters son la categoria que genera mas ingresos por cada tienda.\n- Los supercenters suman **\\$255.89** en ventas por tienda, sin embargo, **si asumimos que los Warehouse Club y Warehouse Clubs son una sola categoria**, estos sumarian **$268.68** en ventas por tienda, **superando a los Supercenters**\n",
   "metadata": {
    "cell_id": "70288fc2-0656-4349-b619-6213a8f18f61",
    "tags": [],
    "deepnote_cell_type": "markdown"
   }
  },
  {
   "cell_type": "markdown",
   "source": "<a style='text-decoration:none;line-height:16px;display:flex;color:#5B5B62;padding:10px;justify-content:end;' href='https://deepnote.com?utm_source=created-in-deepnote-cell&projectId=4e8aebff-15c4-4e8a-a7e7-191904fddb88' target=\"_blank\">\n<img alt='Created in deepnote.com' style='display:inline;max-height:16px;margin:0px;margin-right:7.5px;' src='data:image/svg+xml;base64,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' > </img>\nCreated in <span style='font-weight:600;margin-left:4px;'>Deepnote</span></a>",
   "metadata": {
    "tags": [],
    "created_in_deepnote_cell": true,
    "deepnote_cell_type": "markdown"
   }
  }
 ],
 "nbformat": 4,
 "nbformat_minor": 2,
 "metadata": {
  "orig_nbformat": 2,
  "deepnote": {
   "is_reactive": false
  },
  "deepnote_notebook_id": "85b76ea9-ace4-4c85-8b21-59120be91703",
  "deepnote_execution_queue": []
 }
}